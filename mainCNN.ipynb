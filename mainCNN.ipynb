{
 "cells": [
  {
   "cell_type": "markdown",
   "id": "5e391635",
   "metadata": {},
   "source": [
    "# Proyecto 4: Sentiment Analysis - Classification\n",
    "----\n",
    "University : UTEC \\\n",
    "Course       : Machine Learning \\\n",
    "Professor    : Cristian López Del Alamo \n",
    "\n",
    "----\n",
    "Integrantes:\n",
    "- Integrante 1: Marcelo Andres Chincha León\n",
    "- Integrante 2: Alvaro Aaron Herrera Leiva\n",
    "- Integrante 3: Adrian Joshep Cespedes Zevallos\n",
    "- Integrante 4: Jeremy Lujan Arias\n",
    "----"
   ]
  },
  {
   "cell_type": "markdown",
   "id": "f8580106",
   "metadata": {},
   "source": [
    "# 1. Preparación y analisis de datos"
   ]
  },
  {
   "cell_type": "markdown",
   "id": "a1cd40de",
   "metadata": {},
   "source": [
    "## Instalar y cargar librerias"
   ]
  },
  {
   "cell_type": "code",
   "execution_count": 35,
   "id": "897c14cd",
   "metadata": {},
   "outputs": [],
   "source": [
    "# %pip install numpy\n",
    "# %pip install matplotlib\n",
    "# %pip install scipy\n",
    "# %pip install pandas\n",
    "# %pip install scikit-learn\n",
    "# %pip install seaborn\n",
    "# %pip install nltk\n",
    "# %pip install gensim\n",
    "\n",
    "\n",
    "\n",
    "TEST_SIZE = 0.2\n",
    "P_SEED = 2024"
   ]
  },
  {
   "cell_type": "code",
   "execution_count": 36,
   "id": "1858c3be",
   "metadata": {},
   "outputs": [],
   "source": [
    "# %pip install torch torchvision torchaudio --index-url https://download.pytorch.org/whl/cu118"
   ]
  },
  {
   "cell_type": "code",
   "execution_count": 37,
   "id": "9b8cc384-772e-438a-94db-2a098973bfa7",
   "metadata": {},
   "outputs": [],
   "source": [
    "import os\n",
    "import glob\n",
    "\n",
    "import numpy as np\n",
    "import pandas as pd\n",
    "import seaborn as sns\n",
    "import matplotlib.pyplot as plt\n",
    "\n",
    "import nltk\n",
    "import torch\n",
    "from torch.utils.data import DataLoader, TensorDataset\n",
    "\n",
    "from matplotlib import rcParams\n",
    "from sklearn.decomposition import PCA\n",
    "from sklearn.preprocessing import StandardScaler\n",
    "\n",
    "\n",
    "import scipy\n",
    "import gensim\n",
    "\n",
    "np.random.seed(P_SEED)"
   ]
  },
  {
   "cell_type": "markdown",
   "id": "05360b8e",
   "metadata": {},
   "source": [
    "## Cargar datos"
   ]
  },
  {
   "cell_type": "code",
   "execution_count": 38,
   "id": "02ac4b2f-0057-403e-a4df-3ea0152c0438",
   "metadata": {},
   "outputs": [
    {
     "data": {
      "text/html": [
       "<div>\n",
       "<style scoped>\n",
       "    .dataframe tbody tr th:only-of-type {\n",
       "        vertical-align: middle;\n",
       "    }\n",
       "\n",
       "    .dataframe tbody tr th {\n",
       "        vertical-align: top;\n",
       "    }\n",
       "\n",
       "    .dataframe thead th {\n",
       "        text-align: right;\n",
       "    }\n",
       "</style>\n",
       "<table border=\"1\" class=\"dataframe\">\n",
       "  <thead>\n",
       "    <tr style=\"text-align: right;\">\n",
       "      <th></th>\n",
       "      <th>message</th>\n",
       "      <th>label</th>\n",
       "    </tr>\n",
       "  </thead>\n",
       "  <tbody>\n",
       "    <tr>\n",
       "      <th>count</th>\n",
       "      <td>25000</td>\n",
       "      <td>25000</td>\n",
       "    </tr>\n",
       "    <tr>\n",
       "      <th>unique</th>\n",
       "      <td>24904</td>\n",
       "      <td>2</td>\n",
       "    </tr>\n",
       "    <tr>\n",
       "      <th>top</th>\n",
       "      <td>How has this piece of crap stayed on TV this l...</td>\n",
       "      <td>neg</td>\n",
       "    </tr>\n",
       "    <tr>\n",
       "      <th>freq</th>\n",
       "      <td>3</td>\n",
       "      <td>12500</td>\n",
       "    </tr>\n",
       "  </tbody>\n",
       "</table>\n",
       "</div>"
      ],
      "text/plain": [
       "                                                  message  label\n",
       "count                                               25000  25000\n",
       "unique                                              24904      2\n",
       "top     How has this piece of crap stayed on TV this l...    neg\n",
       "freq                                                    3  12500"
      ]
     },
     "execution_count": 38,
     "metadata": {},
     "output_type": "execute_result"
    }
   ],
   "source": [
    "df_train = pd.read_csv(\"data/train.csv\")\n",
    "df_submit = pd.read_csv(\"data/test.csv\")\n",
    "df_train.describe()"
   ]
  },
  {
   "cell_type": "code",
   "execution_count": 39,
   "id": "14f0620a-9444-4ede-bae6-0a4df647945c",
   "metadata": {},
   "outputs": [
    {
     "data": {
      "image/png": "[encoded data removed]",
      "text/plain": [
       "<Figure size 1400x700 with 1 Axes>"
      ]
     },
     "metadata": {},
     "output_type": "display_data"
    }
   ],
   "source": [
    "sns.set_theme(style=\"whitegrid\")\n",
    "plt.figure(figsize=(14, 7))\n",
    "sns.countplot(df_train.iloc[:, 1], order=df_train.iloc[:, 1].value_counts().index)\n",
    "\n",
    "# Configurar los títulos y etiquetas\n",
    "plt.title('Distribución de Labels')\n",
    "plt.xlabel('Frecuencia')\n",
    "plt.ylabel('Etiquetas')\n",
    "\n",
    "# Mostrar la gráfica\n",
    "plt.show()"
   ]
  },
  {
   "cell_type": "markdown",
   "id": "fcdca608",
   "metadata": {},
   "source": [
    "----\n",
    "# 2. Preprocesamiento"
   ]
  },
  {
   "cell_type": "markdown",
   "id": "7890cee1",
   "metadata": {},
   "source": [
    "## TF-IDF"
   ]
  },
  {
   "cell_type": "markdown",
   "id": "71df5c51",
   "metadata": {},
   "source": [
    "### Tokenizar, eliminar stopwords y Part-Of-Speech tag"
   ]
  },
  {
   "cell_type": "code",
   "execution_count": 6,
   "id": "ccfed2f4",
   "metadata": {},
   "outputs": [
    {
     "name": "stderr",
     "output_type": "stream",
     "text": [
      "[nltk_data] Downloading package punkt to\n",
      "[nltk_data]     C:\\Users\\andre\\AppData\\Roaming\\nltk_data...\n",
      "[nltk_data]   Package punkt is already up-to-date!\n",
      "[nltk_data] Downloading package stopwords to\n",
      "[nltk_data]     C:\\Users\\andre\\AppData\\Roaming\\nltk_data...\n",
      "[nltk_data]   Package stopwords is already up-to-date!\n",
      "[nltk_data] Downloading package averaged_perceptron_tagger to\n",
      "[nltk_data]     C:\\Users\\andre\\AppData\\Roaming\\nltk_data...\n",
      "[nltk_data]   Package averaged_perceptron_tagger is already up-to-\n",
      "[nltk_data]       date!\n",
      "[nltk_data] Downloading package wordnet to\n",
      "[nltk_data]     C:\\Users\\andre\\AppData\\Roaming\\nltk_data...\n",
      "[nltk_data]   Package wordnet is already up-to-date!\n"
     ]
    }
   ],
   "source": [
    "from nltk.corpus import stopwords\n",
    "from nltk.tokenize import word_tokenize\n",
    "from nltk import pos_tag\n",
    "from nltk.corpus import wordnet\n",
    "from nltk.stem import WordNetLemmatizer\n",
    "\n",
    "nltk.download('punkt')\n",
    "nltk.download('stopwords')\n",
    "nltk.download('averaged_perceptron_tagger')\n",
    "nltk.download('wordnet')\n",
    "\n",
    "stop_words = set(stopwords.words('english'))\n",
    "lemmatizer = WordNetLemmatizer()\n",
    "\n",
    "# Lista de palabras de negación sintáctica\n",
    "syntactic_negations = set([\"no\", \"not\", \"none\", \"never\", \"neither\", \"nor\", \"cannot\", \"can't\"])\n",
    "\n",
    "# Lista de prefijos de negación morfológica\n",
    "morphological_prefixes = [\"un\", \"in\", \"dis\", \"im\", \"ir\", \"non\", \"anti\"]\n",
    "\n",
    "def tokenize(text):\n",
    "    # return [word for word in word_tokenize(text.lower()) if word.isalpha() and word not in stop_words]\n",
    "    return [word for word in word_tokenize(text.lower()) if word.isalpha()]\n",
    "\n",
    "def pos_tagging(tokens):\n",
    "    return pos_tag(tokens)\n",
    "\n",
    "# Función para convertir etiquetas de POS de NLTK a etiquetas de WordNet\n",
    "def get_wordnet_pos(treebank_tag):\n",
    "    if treebank_tag.startswith('J'):\n",
    "        return wordnet.ADJ\n",
    "    elif treebank_tag.startswith('V'):\n",
    "        return wordnet.VERB\n",
    "    elif treebank_tag.startswith('N'):\n",
    "        return wordnet.NOUN\n",
    "    elif treebank_tag.startswith('R'):\n",
    "        return wordnet.ADV\n",
    "    else:\n",
    "        return None\n",
    "\n",
    "def mark_negations(tokens):\n",
    "    # Marca las palabras y frases con negaciones.\n",
    "    negated_tokens = []\n",
    "    negation = False\n",
    "    for token in tokens:\n",
    "        if token in syntactic_negations:\n",
    "            negation = True\n",
    "            negated_tokens.append(token)\n",
    "        elif negation:\n",
    "            if token in stop_words:\n",
    "                negated_tokens.append(token)\n",
    "            else:\n",
    "                negated_tokens.append(token + \"_NEG\")\n",
    "                negation = False\n",
    "        else:\n",
    "            negated_tokens.append(token)\n",
    "    \n",
    "    return negated_tokens\n",
    "\n",
    "# def mark_negations(tokens):\n",
    "#     negated_tokens = []\n",
    "#     negation = False\n",
    "#     for i, token in enumerate(tokens):\n",
    "#         if token in syntactic_negations:\n",
    "#             negation = True\n",
    "#             negated_tokens.append(token)\n",
    "#         elif negation:\n",
    "#             if token in stop_words:\n",
    "#                 negated_tokens.append(token)\n",
    "#             else:\n",
    "#                 negated_tokens.append(token + \"_NEG\")\n",
    "#                 # Detectar doble negación\n",
    "#                 if i > 0 and tokens[i - 1] == \"not\":\n",
    "#                     negated_tokens[i] = tokens[i]\n",
    "#                 negation = False\n",
    "#         else:\n",
    "#             negated_tokens.append(token)\n",
    "    \n",
    "#     return negated_tokens\n",
    "\n",
    "\n",
    "def handle_morphological_negations(tokens):\n",
    "    # Marca las palabras con prefijos de negación morfológica.\n",
    "    negated_tokens = []\n",
    "    for token in tokens:\n",
    "        for prefix in morphological_prefixes:\n",
    "            if token.startswith(prefix):\n",
    "                root = token[len(prefix):]\n",
    "                negated_tokens.append(root + \"_NEG\")\n",
    "                break\n",
    "        else:\n",
    "            negated_tokens.append(token)\n",
    "    \n",
    "    return negated_tokens\n",
    "\n",
    "def handle_double_negations(tokens):\n",
    "    negated_tokens = []\n",
    "    for i, token in enumerate(tokens):\n",
    "        if token.endswith(\"_NEG_NEG\"):\n",
    "            negated_tokens.append(token[:-8])\n",
    "        else:\n",
    "            negated_tokens.append(token)\n",
    "    \n",
    "    return negated_tokens\n",
    "\n",
    "def lemmatize(pos_tags):\n",
    "    return [lemmatizer.lemmatize(word, pos=get_wordnet_pos(pos) or wordnet.NOUN) for word, pos in pos_tags]\n",
    "\n",
    "def preprocess(df):\n",
    "    df['tokens'] = df['message'].apply(tokenize)\n",
    "    df['tokens'] = df['tokens'].apply(mark_negations)\n",
    "    df['tokens'] = df['tokens'].apply(lambda tokens: [token for token in tokens if token not in stop_words])\n",
    "    df['tokens'] = df['tokens'].apply(handle_morphological_negations)\n",
    "    df['tokens'] = df['tokens'].apply(handle_double_negations)\n",
    "    df['pos_tags'] = df['tokens'].apply(pos_tagging)\n",
    "    df['lemmas'] = df['pos_tags'].apply(lemmatize)\n",
    "    return df"
   ]
  },
  {
   "cell_type": "code",
   "execution_count": 7,
   "id": "124276f2",
   "metadata": {},
   "outputs": [
    {
     "data": {
      "text/html": [
       "<div>\n",
       "<style scoped>\n",
       "    .dataframe tbody tr th:only-of-type {\n",
       "        vertical-align: middle;\n",
       "    }\n",
       "\n",
       "    .dataframe tbody tr th {\n",
       "        vertical-align: top;\n",
       "    }\n",
       "\n",
       "    .dataframe thead th {\n",
       "        text-align: right;\n",
       "    }\n",
       "</style>\n",
       "<table border=\"1\" class=\"dataframe\">\n",
       "  <thead>\n",
       "    <tr style=\"text-align: right;\">\n",
       "      <th></th>\n",
       "      <th>message</th>\n",
       "      <th>tokens</th>\n",
       "      <th>lemmas</th>\n",
       "    </tr>\n",
       "  </thead>\n",
       "  <tbody>\n",
       "    <tr>\n",
       "      <th>0</th>\n",
       "      <td>The audience disliked the actor leading the play.</td>\n",
       "      <td>[audience, liked_NEG, actor, leading, play]</td>\n",
       "      <td>[audience, liked_NEG, actor, lead, play]</td>\n",
       "    </tr>\n",
       "    <tr>\n",
       "      <th>1</th>\n",
       "      <td>He was not supposed to come.</td>\n",
       "      <td>[supposed_NEG, come]</td>\n",
       "      <td>[supposed_NEG, come]</td>\n",
       "    </tr>\n",
       "    <tr>\n",
       "      <th>2</th>\n",
       "      <td>The price of the car is not insignificant.</td>\n",
       "      <td>[price, car, significant]</td>\n",
       "      <td>[price, car, significant]</td>\n",
       "    </tr>\n",
       "  </tbody>\n",
       "</table>\n",
       "</div>"
      ],
      "text/plain": [
       "                                             message  \\\n",
       "0  The audience disliked the actor leading the play.   \n",
       "1                       He was not supposed to come.   \n",
       "2         The price of the car is not insignificant.   \n",
       "\n",
       "                                        tokens  \\\n",
       "0  [audience, liked_NEG, actor, leading, play]   \n",
       "1                         [supposed_NEG, come]   \n",
       "2                    [price, car, significant]   \n",
       "\n",
       "                                     lemmas  \n",
       "0  [audience, liked_NEG, actor, lead, play]  \n",
       "1                      [supposed_NEG, come]  \n",
       "2                 [price, car, significant]  "
      ]
     },
     "execution_count": 7,
     "metadata": {},
     "output_type": "execute_result"
    }
   ],
   "source": [
    "# Ejemplo de uso\n",
    "import pandas as pd\n",
    "\n",
    "data = {'message': [\"The audience disliked the actor leading the play.\", \n",
    "                    \"He was not supposed to come.\", \n",
    "                    \"The price of the car is not insignificant.\"]}\n",
    "\n",
    "df = pd.DataFrame(data)\n",
    "processed_df = preprocess(df)\n",
    "\n",
    "processed_df[['message', 'tokens', 'lemmas']]"
   ]
  },
  {
   "cell_type": "code",
   "execution_count": 8,
   "id": "52421b0f",
   "metadata": {},
   "outputs": [],
   "source": [
    "df_train_tf = preprocess(df_train)\n",
    "df_submit_tf = preprocess(df_submit)\n",
    "df_train_tf.to_pickle('df_train_processed.pkl')\n",
    "df_submit_tf.to_pickle('df_test_processed.pkl')"
   ]
  },
  {
   "cell_type": "markdown",
   "id": "c5996e68",
   "metadata": {},
   "source": [
    "### Cargar data una vez preprocesada"
   ]
  },
  {
   "cell_type": "code",
   "execution_count": 48,
   "id": "f06f3355",
   "metadata": {},
   "outputs": [],
   "source": [
    "df_train_tf = pd.read_pickle('df_train_processed.pkl')\n",
    "df_submit_tf = pd.read_pickle('df_test_processed.pkl')"
   ]
  },
  {
   "cell_type": "code",
   "execution_count": 49,
   "id": "1499f06b",
   "metadata": {},
   "outputs": [],
   "source": [
    "from sklearn.model_selection import train_test_split\n",
    "df_train_tf, df_test_tf = train_test_split(df_train, test_size=TEST_SIZE, random_state=P_SEED)"
   ]
  },
  {
   "cell_type": "code",
   "execution_count": 50,
   "id": "b572c20b",
   "metadata": {},
   "outputs": [
    {
     "ename": "KeyError",
     "evalue": "'lemmas'",
     "output_type": "error",
     "traceback": [
      "\u001b[1;31m---------------------------------------------------------------------------\u001b[0m",
      "\u001b[1;31mKeyError\u001b[0m                                  Traceback (most recent call last)",
      "File \u001b[1;32mf:\\Tareas\\Comp\\Proyecto\\Proy4-ML\\.venv\\Lib\\site-packages\\pandas\\core\\indexes\\base.py:3805\u001b[0m, in \u001b[0;36mIndex.get_loc\u001b[1;34m(self, key)\u001b[0m\n\u001b[0;32m   3804\u001b[0m \u001b[38;5;28;01mtry\u001b[39;00m:\n\u001b[1;32m-> 3805\u001b[0m     \u001b[38;5;28;01mreturn\u001b[39;00m \u001b[38;5;28;43mself\u001b[39;49m\u001b[38;5;241;43m.\u001b[39;49m\u001b[43m_engine\u001b[49m\u001b[38;5;241;43m.\u001b[39;49m\u001b[43mget_loc\u001b[49m\u001b[43m(\u001b[49m\u001b[43mcasted_key\u001b[49m\u001b[43m)\u001b[49m\n\u001b[0;32m   3806\u001b[0m \u001b[38;5;28;01mexcept\u001b[39;00m \u001b[38;5;167;01mKeyError\u001b[39;00m \u001b[38;5;28;01mas\u001b[39;00m err:\n",
      "File \u001b[1;32mindex.pyx:167\u001b[0m, in \u001b[0;36mpandas._libs.index.IndexEngine.get_loc\u001b[1;34m()\u001b[0m\n",
      "File \u001b[1;32mindex.pyx:196\u001b[0m, in \u001b[0;36mpandas._libs.index.IndexEngine.get_loc\u001b[1;34m()\u001b[0m\n",
      "File \u001b[1;32mpandas\\\\_libs\\\\hashtable_class_helper.pxi:7081\u001b[0m, in \u001b[0;36mpandas._libs.hashtable.PyObjectHashTable.get_item\u001b[1;34m()\u001b[0m\n",
      "File \u001b[1;32mpandas\\\\_libs\\\\hashtable_class_helper.pxi:7089\u001b[0m, in \u001b[0;36mpandas._libs.hashtable.PyObjectHashTable.get_item\u001b[1;34m()\u001b[0m\n",
      "\u001b[1;31mKeyError\u001b[0m: 'lemmas'",
      "\nThe above exception was the direct cause of the following exception:\n",
      "\u001b[1;31mKeyError\u001b[0m                                  Traceback (most recent call last)",
      "Cell \u001b[1;32mIn[50], line 7\u001b[0m\n\u001b[0;32m      4\u001b[0m \u001b[38;5;66;03m# tfidf = TfidfVectorizer(max_features=1000)\u001b[39;00m\n\u001b[0;32m      5\u001b[0m tfidf \u001b[38;5;241m=\u001b[39m TfidfVectorizer()\n\u001b[1;32m----> 7\u001b[0m x_train_tf \u001b[38;5;241m=\u001b[39m tfidf\u001b[38;5;241m.\u001b[39mfit_transform(\u001b[43mdf_train_tf\u001b[49m\u001b[43m[\u001b[49m\u001b[38;5;124;43m'\u001b[39;49m\u001b[38;5;124;43mlemmas\u001b[39;49m\u001b[38;5;124;43m'\u001b[39;49m\u001b[43m]\u001b[49m\u001b[38;5;241m.\u001b[39mapply(\u001b[38;5;124m'\u001b[39m\u001b[38;5;124m \u001b[39m\u001b[38;5;124m'\u001b[39m\u001b[38;5;241m.\u001b[39mjoin))\n\u001b[0;32m      8\u001b[0m x_test_tf \u001b[38;5;241m=\u001b[39m tfidf\u001b[38;5;241m.\u001b[39mtransform(df_test_tf[\u001b[38;5;124m'\u001b[39m\u001b[38;5;124mlemmas\u001b[39m\u001b[38;5;124m'\u001b[39m]\u001b[38;5;241m.\u001b[39mapply(\u001b[38;5;124m'\u001b[39m\u001b[38;5;124m \u001b[39m\u001b[38;5;124m'\u001b[39m\u001b[38;5;241m.\u001b[39mjoin))\n\u001b[0;32m      9\u001b[0m x_submit_tf \u001b[38;5;241m=\u001b[39m tfidf\u001b[38;5;241m.\u001b[39mtransform(df_submit[\u001b[38;5;124m'\u001b[39m\u001b[38;5;124mlemmas\u001b[39m\u001b[38;5;124m'\u001b[39m]\u001b[38;5;241m.\u001b[39mapply(\u001b[38;5;124m'\u001b[39m\u001b[38;5;124m \u001b[39m\u001b[38;5;124m'\u001b[39m\u001b[38;5;241m.\u001b[39mjoin))\n",
      "File \u001b[1;32mf:\\Tareas\\Comp\\Proyecto\\Proy4-ML\\.venv\\Lib\\site-packages\\pandas\\core\\frame.py:4102\u001b[0m, in \u001b[0;36mDataFrame.__getitem__\u001b[1;34m(self, key)\u001b[0m\n\u001b[0;32m   4100\u001b[0m \u001b[38;5;28;01mif\u001b[39;00m \u001b[38;5;28mself\u001b[39m\u001b[38;5;241m.\u001b[39mcolumns\u001b[38;5;241m.\u001b[39mnlevels \u001b[38;5;241m>\u001b[39m \u001b[38;5;241m1\u001b[39m:\n\u001b[0;32m   4101\u001b[0m     \u001b[38;5;28;01mreturn\u001b[39;00m \u001b[38;5;28mself\u001b[39m\u001b[38;5;241m.\u001b[39m_getitem_multilevel(key)\n\u001b[1;32m-> 4102\u001b[0m indexer \u001b[38;5;241m=\u001b[39m \u001b[38;5;28;43mself\u001b[39;49m\u001b[38;5;241;43m.\u001b[39;49m\u001b[43mcolumns\u001b[49m\u001b[38;5;241;43m.\u001b[39;49m\u001b[43mget_loc\u001b[49m\u001b[43m(\u001b[49m\u001b[43mkey\u001b[49m\u001b[43m)\u001b[49m\n\u001b[0;32m   4103\u001b[0m \u001b[38;5;28;01mif\u001b[39;00m is_integer(indexer):\n\u001b[0;32m   4104\u001b[0m     indexer \u001b[38;5;241m=\u001b[39m [indexer]\n",
      "File \u001b[1;32mf:\\Tareas\\Comp\\Proyecto\\Proy4-ML\\.venv\\Lib\\site-packages\\pandas\\core\\indexes\\base.py:3812\u001b[0m, in \u001b[0;36mIndex.get_loc\u001b[1;34m(self, key)\u001b[0m\n\u001b[0;32m   3807\u001b[0m     \u001b[38;5;28;01mif\u001b[39;00m \u001b[38;5;28misinstance\u001b[39m(casted_key, \u001b[38;5;28mslice\u001b[39m) \u001b[38;5;129;01mor\u001b[39;00m (\n\u001b[0;32m   3808\u001b[0m         \u001b[38;5;28misinstance\u001b[39m(casted_key, abc\u001b[38;5;241m.\u001b[39mIterable)\n\u001b[0;32m   3809\u001b[0m         \u001b[38;5;129;01mand\u001b[39;00m \u001b[38;5;28many\u001b[39m(\u001b[38;5;28misinstance\u001b[39m(x, \u001b[38;5;28mslice\u001b[39m) \u001b[38;5;28;01mfor\u001b[39;00m x \u001b[38;5;129;01min\u001b[39;00m casted_key)\n\u001b[0;32m   3810\u001b[0m     ):\n\u001b[0;32m   3811\u001b[0m         \u001b[38;5;28;01mraise\u001b[39;00m InvalidIndexError(key)\n\u001b[1;32m-> 3812\u001b[0m     \u001b[38;5;28;01mraise\u001b[39;00m \u001b[38;5;167;01mKeyError\u001b[39;00m(key) \u001b[38;5;28;01mfrom\u001b[39;00m \u001b[38;5;21;01merr\u001b[39;00m\n\u001b[0;32m   3813\u001b[0m \u001b[38;5;28;01mexcept\u001b[39;00m \u001b[38;5;167;01mTypeError\u001b[39;00m:\n\u001b[0;32m   3814\u001b[0m     \u001b[38;5;66;03m# If we have a listlike key, _check_indexing_error will raise\u001b[39;00m\n\u001b[0;32m   3815\u001b[0m     \u001b[38;5;66;03m#  InvalidIndexError. Otherwise we fall through and re-raise\u001b[39;00m\n\u001b[0;32m   3816\u001b[0m     \u001b[38;5;66;03m#  the TypeError.\u001b[39;00m\n\u001b[0;32m   3817\u001b[0m     \u001b[38;5;28mself\u001b[39m\u001b[38;5;241m.\u001b[39m_check_indexing_error(key)\n",
      "\u001b[1;31mKeyError\u001b[0m: 'lemmas'"
     ]
    }
   ],
   "source": [
    "# use tf-idf to vectorize the text\n",
    "from sklearn.feature_extraction.text import TfidfVectorizer\n",
    "\n",
    "# tfidf = TfidfVectorizer(max_features=1000)\n",
    "tfidf = TfidfVectorizer()\n",
    "\n",
    "x_train_tf = tfidf.fit_transform(df_train_tf['lemmas'].apply(' '.join))\n",
    "x_test_tf = tfidf.transform(df_test_tf['lemmas'].apply(' '.join))\n",
    "x_submit_tf = tfidf.transform(df_submit['lemmas'].apply(' '.join))"
   ]
  },
  {
   "cell_type": "code",
   "execution_count": null,
   "id": "1cf826af",
   "metadata": {},
   "outputs": [
    {
     "name": "stdout",
     "output_type": "stream",
     "text": [
      "(20000, 62496)\n",
      "(5000, 62496)\n",
      "(25000, 62496)\n"
     ]
    }
   ],
   "source": [
    "print(x_train_tf.shape)\n",
    "print(x_test_tf.shape)\n",
    "print(x_submit_tf.shape)"
   ]
  },
  {
   "cell_type": "code",
   "execution_count": null,
   "id": "3b98c42d",
   "metadata": {},
   "outputs": [
    {
     "data": {
      "text/plain": [
       "array(['neg', 'pos'], dtype=object)"
      ]
     },
     "execution_count": 36,
     "metadata": {},
     "output_type": "execute_result"
    }
   ],
   "source": [
    "#enconde de y a valores numericos\n",
    "from sklearn.preprocessing import LabelEncoder\n",
    "\n",
    "label_encoder = LabelEncoder()\n",
    "y_train_tf = label_encoder.fit_transform(df_train_tf['label'])\n",
    "y_test_tf = label_encoder.transform(df_test_tf['label'])\n",
    "\n",
    "#verificar que significa cada valor numerico\n",
    "label_encoder.classes_"
   ]
  },
  {
   "cell_type": "code",
   "execution_count": null,
   "id": "e0f37ea1",
   "metadata": {},
   "outputs": [],
   "source": [
    "from sklearn.feature_selection import SelectKBest, chi2\n",
    "\n",
    "k = 5000  # Número de características a seleccionar, ajusta este valor según sea necesario\n",
    "chi2_selector = SelectKBest(chi2, k=k)\n",
    "x_train_chi2 = chi2_selector.fit_transform(x_train_tf, y_train_tf)\n",
    "x_test_chi2 = chi2_selector.transform(x_test_tf)\n",
    "x_submit_chi2 = chi2_selector.transform(x_submit_tf)"
   ]
  },
  {
   "cell_type": "code",
   "execution_count": null,
   "id": "4a04d223",
   "metadata": {},
   "outputs": [
    {
     "name": "stdout",
     "output_type": "stream",
     "text": [
      "TF-IDF Number of features: 5000\n"
     ]
    }
   ],
   "source": [
    "tf_n_features = x_train_chi2.shape[1]\n",
    "print(f'TF-IDF Number of features: {tf_n_features}')"
   ]
  },
  {
   "cell_type": "markdown",
   "id": "4986bb23",
   "metadata": {},
   "source": [
    "## Character quantization"
   ]
  },
  {
   "cell_type": "markdown",
   "id": "899a01af",
   "metadata": {},
   "source": [
    "### Analisis de datos"
   ]
  },
  {
   "cell_type": "code",
   "execution_count": null,
   "id": "c52754fc",
   "metadata": {},
   "outputs": [
    {
     "name": "stdout",
     "output_type": "stream",
     "text": [
      "Promedio de longitud de mensajes: 1325.06964\n"
     ]
    },
    {
     "data": {
      "image/png": "[encoded data removed]",
      "text/plain": [
       "<Figure size 800x500 with 1 Axes>"
      ]
     },
     "metadata": {},
     "output_type": "display_data"
    }
   ],
   "source": [
    "#graficar distribución de las longitudes de los mensajes\n",
    "plt.figure(figsize=(8, 5))\n",
    "sns.histplot(df_train['message'].apply(len), bins=50)\n",
    "#set title\n",
    "plt.title('Distribución de Longitudes de Mensajes')\n",
    "\n",
    "prom_len = df_train['message'].apply(len).mean()\n",
    "print(f'Promedio de longitud de mensajes: {prom_len}')\n"
   ]
  },
  {
   "cell_type": "code",
   "execution_count": null,
   "id": "c9725a79",
   "metadata": {},
   "outputs": [
    {
     "data": {
      "text/plain": [
       "Text(0, 0.5, 'Frecuencia')"
      ]
     },
     "execution_count": 55,
     "metadata": {},
     "output_type": "execute_result"
    },
    {
     "data": {
      "image/png": "[encoded data removed]",
      "text/plain": [
       "<Figure size 1400x700 with 1 Axes>"
      ]
     },
     "metadata": {},
     "output_type": "display_data"
    }
   ],
   "source": [
    "#graficar la frecuencia de cada caracter\n",
    "dict_chars = { c : 0 for c in 'abcdefghijklmnopqrstuvwxyz!?.,0123456789\\n'}\n",
    "for message in df_train['message']:\n",
    "    for c in message.lower():\n",
    "        if c in dict_chars:\n",
    "            dict_chars[c] += 1\n",
    "            \n",
    "            \n",
    "#Oderdar de mayor a menor frecuencia\n",
    "dict_chars = dict(sorted(dict_chars.items(), key=lambda item: item[1], reverse=True))\n",
    "\n",
    "plt.figure(figsize=(14, 7))\n",
    "sns.barplot(x=list(dict_chars.keys()), y=list(dict_chars.values()))\n",
    "plt.title('Frecuencia de Caracteres')\n",
    "plt.xlabel('Caracteres')\n",
    "plt.ylabel('Frecuencia')\n"
   ]
  },
  {
   "cell_type": "code",
   "execution_count": null,
   "id": "8233d372",
   "metadata": {},
   "outputs": [
    {
     "name": "stdout",
     "output_type": "stream",
     "text": [
      "Caracteres más frecuentes usados: ['e', 't', 'a', 'i', 'o', 's', 'n', 'r', 'h', 'l', 'd', 'c', 'm', 'u', 'f', 'g', 'y', 'b', 'w', 'p', '.', 'v', ',', 'k', 'j', 'x', '!', 'z']\n"
     ]
    }
   ],
   "source": [
    "#seleccionar los primeros k caracteres mas frecuentes\n",
    "k = 28\n",
    "alfabet_used = list(dict_chars.keys())[0:k]\n",
    "print(f'Caracteres más frecuentes usados: {alfabet_used}')"
   ]
  },
  {
   "cell_type": "markdown",
   "id": "9a3d8ebd",
   "metadata": {},
   "source": [
    "### Extracción"
   ]
  },
  {
   "cell_type": "code",
   "execution_count": null,
   "id": "70bfbd68",
   "metadata": {},
   "outputs": [],
   "source": [
    "import pandas as pd\n",
    "import numpy as np\n",
    "from scipy.sparse import lil_matrix\n",
    "\n",
    "\n",
    "# Funciones auxiliares\n",
    "def build_char_mat(quote, MAX_LEN, CHAR_DICT):\n",
    "    # Usamos lil_matrix para la matriz dispersa\n",
    "    char_mat = np.zeros((len(CHAR_DICT), MAX_LEN), dtype=np.float32)\n",
    "    quote = quote.lower()\n",
    "    for i, char in enumerate(quote):\n",
    "        if i >= MAX_LEN:\n",
    "            break\n",
    "        if char in CHAR_DICT:\n",
    "            char_mat[CHAR_DICT[char], i] = 1\n",
    "    return char_mat\n",
    "\n",
    "def generate_char_dict(string):\n",
    "    char_dict = {}\n",
    "    for char in string:\n",
    "        if char not in char_dict:\n",
    "            char_dict[char] = len(char_dict)\n",
    "    return char_dict\n",
    "\n",
    "def executeCQ(df, alfabet, MAX_LEN):\n",
    "    CHAR_DICT = generate_char_dict(alfabet)\n",
    "    results = []\n",
    "    for row in df:\n",
    "        # Remove special characters that are not in the alphabet\n",
    "        msg = ''.join([char for char in row if char in CHAR_DICT])\n",
    "        char_mat = torch.tensor(build_char_mat(msg, MAX_LEN, CHAR_DICT))\n",
    "        results.append(char_mat)\n",
    "    return torch.stack(results, dim=0)"
   ]
  },
  {
   "cell_type": "code",
   "execution_count": null,
   "id": "b911060d",
   "metadata": {},
   "outputs": [],
   "source": [
    "from sklearn.model_selection import train_test_split\n",
    "df_train_cq, df_test_cq = train_test_split(df_train, test_size=TEST_SIZE, random_state=P_SEED)\n",
    "alfabet_dict = generate_char_dict(alfabet_used)"
   ]
  },
  {
   "cell_type": "code",
   "execution_count": null,
   "id": "e4ebabc0",
   "metadata": {},
   "outputs": [
    {
     "name": "stdout",
     "output_type": "stream",
     "text": [
      "Number of features: 2500\n",
      "Number of characters: 28\n"
     ]
    }
   ],
   "source": [
    "LEN_CQ = 2500\n",
    "x_train_cq = executeCQ(df_train_cq['message'], alfabet_used, LEN_CQ)\n",
    "x_test_cq = executeCQ(df_test_cq['message'], alfabet_used, LEN_CQ)\n",
    "cq_n_features = x_train_cq.shape[2]\n",
    "cq_n_chars = x_train_cq.shape[1]\n",
    "\n",
    "print(f'Number of features: {cq_n_features}')\n",
    "print(f'Number of characters: {cq_n_chars}')"
   ]
  },
  {
   "cell_type": "code",
   "execution_count": null,
   "id": "0ffd2d99",
   "metadata": {},
   "outputs": [],
   "source": [
    "from sklearn.preprocessing import LabelEncoder\n",
    "\n",
    "label_encoder = LabelEncoder()\n",
    "y_train_cq = label_encoder.fit_transform(df_train_cq['label'])\n",
    "y_test_cq = label_encoder.transform(df_test_cq['label'])"
   ]
  },
  {
   "cell_type": "markdown",
   "id": "463de381",
   "metadata": {},
   "source": [
    "## WORD2VEC"
   ]
  },
  {
   "cell_type": "markdown",
   "id": "450776ca",
   "metadata": {},
   "source": [
    "### Eliminación de stop words "
   ]
  },
  {
   "cell_type": "code",
   "execution_count": 51,
   "id": "855f3f90",
   "metadata": {},
   "outputs": [
    {
     "name": "stderr",
     "output_type": "stream",
     "text": [
      "[nltk_data] Downloading package stopwords to\n",
      "[nltk_data]     C:\\Users\\andre\\AppData\\Roaming\\nltk_data...\n",
      "[nltk_data]   Package stopwords is already up-to-date!\n"
     ]
    }
   ],
   "source": [
    "import torch\n",
    "import nltk\n",
    "from nltk.corpus import stopwords\n",
    "\n",
    "nltk.download('stopwords')\n",
    "stop_words = set(stopwords.words('english'))\n",
    "alphabet_used = set(\"abcdefghijklmnopqrstuvwxyz \")\n",
    "\n",
    "\n",
    "def preprocess_text(text):\n",
    "    text = text.lower()\n",
    "    text = ''.join([char for char in text if char in alphabet_used])\n",
    "    words = text.split()\n",
    "    words = [word for word in set(words) if word not in stop_words]\n",
    "    return words\n",
    "\n",
    "def build_df_words(df):\n",
    "    #add new column\n",
    "    d = df.copy()\n",
    "    d['words'] = d['message'].apply(preprocess_text)\n",
    "    return d"
   ]
  },
  {
   "cell_type": "code",
   "execution_count": 52,
   "id": "6e2eb2c1",
   "metadata": {},
   "outputs": [],
   "source": [
    "import pandas as pd\n",
    "from sklearn.model_selection import train_test_split\n",
    "\n",
    "df_train_words, df_test_words = train_test_split(df_train, test_size=TEST_SIZE, random_state=P_SEED)\n",
    "\n",
    "df_train_words = build_df_words(df_train_words)\n",
    "df_test_words = build_df_words(df_test_words)\n",
    "\n",
    "df_submit_words = build_df_words(df_submit)"
   ]
  },
  {
   "cell_type": "code",
   "execution_count": 53,
   "id": "695c326a",
   "metadata": {},
   "outputs": [
    {
     "name": "stdout",
     "output_type": "stream",
     "text": [
      "Promedio de longitud de mensajes: 100.7556\n"
     ]
    },
    {
     "data": {
      "image/png": "[encoded data removed]",
      "text/plain": [
       "<Figure size 800x500 with 1 Axes>"
      ]
     },
     "metadata": {},
     "output_type": "display_data"
    }
   ],
   "source": [
    "#graficar la distribución de la longitud de los mensajes\n",
    "plt.figure(figsize=(8, 5))\n",
    "sns.histplot(df_train_words['words'].apply(lambda x: len(set(x))), bins=50)\n",
    "plt.title('Distribución de Longitud de Mensajes')\n",
    "plt.xlabel('Longitud')\n",
    "plt.ylabel('Frecuencia')\n",
    "\n",
    "prom_len = df_train_words['words'].apply(lambda x: len(set(x))).mean()\n",
    "print(f'Promedio de longitud de mensajes: {prom_len}')"
   ]
  },
  {
   "cell_type": "markdown",
   "id": "24ac8f62",
   "metadata": {},
   "source": [
    "### Cargar modelo preentrenado (word2vec-google-news-300)"
   ]
  },
  {
   "cell_type": "code",
   "execution_count": 54,
   "id": "3b8bc6ba",
   "metadata": {},
   "outputs": [],
   "source": [
    "#load numpy\n",
    "import gensim.downloader as api\n",
    "\n",
    "#load word2vec\n",
    "word2vec = api.load('word2vec-google-news-300')"
   ]
  },
  {
   "cell_type": "markdown",
   "id": "3fb21bbf",
   "metadata": {},
   "source": [
    "### Extraer vectores"
   ]
  },
  {
   "cell_type": "code",
   "execution_count": 55,
   "id": "16a69fd1",
   "metadata": {},
   "outputs": [],
   "source": [
    "#construir matrix\n",
    "def build_embedding_matrix(df, word2vec_dict, max_words):\n",
    "    result = np.zeros((len(df['words']), max_words, 300), dtype=np.float32)\n",
    "    for i, words in enumerate(df['words']):\n",
    "        emb = np.zeros((max_words,300), dtype=np.float32)\n",
    "        count = 0\n",
    "        for word in words:\n",
    "            if count >= max_words:\n",
    "                break\n",
    "            if word in word2vec_dict:\n",
    "                emb[count] = word2vec_dict[word]\n",
    "                count += 1\n",
    "        result[i] = emb\n",
    "    return result"
   ]
  },
  {
   "cell_type": "code",
   "execution_count": 56,
   "id": "3e3ebe22",
   "metadata": {},
   "outputs": [],
   "source": [
    "WORDS = 300\n",
    "\n",
    "x_train_wd = build_embedding_matrix(df_train_words, word2vec, WORDS)\n",
    "x_test_wd = build_embedding_matrix(df_test_words, word2vec, WORDS)\n",
    "x_submit_wd = build_embedding_matrix(df_submit_words, word2vec, WORDS)"
   ]
  },
  {
   "cell_type": "code",
   "execution_count": 57,
   "id": "cd835905",
   "metadata": {},
   "outputs": [
    {
     "data": {
      "text/plain": [
       "(20000, 300, 300)"
      ]
     },
     "execution_count": 57,
     "metadata": {},
     "output_type": "execute_result"
    }
   ],
   "source": [
    "x_train_wd.shape"
   ]
  },
  {
   "cell_type": "code",
   "execution_count": 58,
   "id": "4191c080",
   "metadata": {},
   "outputs": [
    {
     "name": "stdout",
     "output_type": "stream",
     "text": [
      "Number of features: 300\n"
     ]
    }
   ],
   "source": [
    "wd_n_features = x_train_wd.shape[2]\n",
    "print(f'Number of features: {wd_n_features}')"
   ]
  },
  {
   "cell_type": "code",
   "execution_count": 59,
   "id": "dece3ef9",
   "metadata": {},
   "outputs": [],
   "source": [
    "from sklearn.preprocessing import LabelEncoder\n",
    "\n",
    "label_encoder = LabelEncoder()\n",
    "y_train_wd = label_encoder.fit_transform(df_train_words['label'])\n",
    "y_test_wd = label_encoder.transform(df_test_words['label'])"
   ]
  },
  {
   "cell_type": "markdown",
   "id": "a3c00e4e",
   "metadata": {},
   "source": [
    "----\n",
    "# 3. Experimentación"
   ]
  },
  {
   "cell_type": "markdown",
   "id": "6d3dce58",
   "metadata": {},
   "source": [
    "## Funciones auxiliares"
   ]
  },
  {
   "cell_type": "code",
   "execution_count": 44,
   "id": "24565475",
   "metadata": {},
   "outputs": [
    {
     "name": "stdout",
     "output_type": "stream",
     "text": [
      "cuda:0\n"
     ]
    }
   ],
   "source": [
    "# Prepare Colab to work with CUDA.\n",
    "device = torch.device('cuda:0' if torch.cuda.is_available() else 'cpu')\n",
    "print(device)"
   ]
  },
  {
   "cell_type": "code",
   "execution_count": 45,
   "id": "3b2ed3b9",
   "metadata": {},
   "outputs": [],
   "source": [
    "#funciones de experimentación\n",
    "import pandas as pd\n",
    "from sklearn.metrics import confusion_matrix, classification_report\n",
    "\n",
    "def matriz_confusion(y_test, y_pred, Tipo):\n",
    " matrix = confusion_matrix(y_test, y_pred)\n",
    " f2 = pd.DataFrame(matrix.astype('float') / matrix.sum(axis=1)[:, np.newaxis], index= label_encoder.classes_  , columns=label_encoder.classes_)\n",
    " sns.heatmap(f2, annot=True, cbar=None, cmap=\"Greens\")\n",
    " plt.title(\"Confusion Matrix - \"  + Tipo ), plt.tight_layout()\n",
    " plt.xlabel(\"Predicted\")\n",
    " plt.ylabel(\"Real\")\n",
    " plt.show()\n",
    "\n",
    "# Write your code here\n",
    "def test(model, loader, tipo):\n",
    "  if tipo == \"MLP\" or tipo == \"CNN\":\n",
    "    model.eval()\n",
    "    #crear tensores de salida\n",
    "    y_test = torch.tensor([], dtype=torch.long)\n",
    "    y_pred = torch.tensor([], dtype=torch.long)\n",
    "    with torch.no_grad():\n",
    "        for x_test_v, y_test_v in loader:\n",
    "          x_test_v = x_test_v.to(device)\n",
    "          y_test_v = y_test_v.to(device)\n",
    "          y_pred_v = model(x_test_v)\n",
    "    \n",
    "          y_pred_v = torch.argmax(y_pred_v, dim=1).cpu()\n",
    "          y_test_v = y_test_v.cpu()\n",
    "          \n",
    "          #agregar a las listas\n",
    "          y_test = torch.cat((y_test, y_test_v), dim=0)\n",
    "          y_pred = torch.cat((y_pred, y_pred_v), dim=0)\n",
    "        torch.cuda.empty_cache()\n",
    "  else:\n",
    "    y_pred = model.predict(x_test)\n",
    "    \n",
    "  print(\"F\",y_test)\n",
    "  print(\"F\",y_pred)\n",
    "\n",
    "    \n",
    "  print(classification_report(y_test, y_pred))\n",
    "  matriz_confusion(y_test, y_pred,tipo)"
   ]
  },
  {
   "cell_type": "code",
   "execution_count": 46,
   "id": "360cc4e9",
   "metadata": {},
   "outputs": [],
   "source": [
    "def train(model, loss_f, optimizer, epochs, train_loader,name):\n",
    "    loss_lista = []\n",
    "    for epoch in range(epochs):\n",
    "        model.train()\n",
    "        epoch_loss = 0\n",
    "        for batch in train_loader:\n",
    "            x_batch, y_batch = batch\n",
    "            x_batch, y_batch = x_batch.to(device), y_batch.to(device)\n",
    "\n",
    "            # Forward pass\n",
    "            y_pred = model(x_batch)\n",
    "            loss = loss_f(y_pred, y_batch)\n",
    "            epoch_loss += loss.item()\n",
    "            \n",
    "            # Backward pass\n",
    "            optimizer.zero_grad()\n",
    "            loss.backward()\n",
    "            optimizer.step()\n",
    "\n",
    "        avg_epoch_loss = epoch_loss / len(train_loader)\n",
    "        loss_lista.append(avg_epoch_loss)\n",
    "        torch.save(model.state_dict(), f\"models/{name}.pth\")\n",
    "        if epoch % 1 == 0:\n",
    "            print('Epoch {}: train loss: {:.4f}'.format(epoch, avg_epoch_loss))\n",
    "    return loss_lista"
   ]
  },
  {
   "cell_type": "markdown",
   "id": "4c7adc93",
   "metadata": {},
   "source": [
    "## SVM TEST"
   ]
  },
  {
   "cell_type": "markdown",
   "id": "8964467c",
   "metadata": {},
   "source": [
    "### SVM con TF-IDF"
   ]
  },
  {
   "cell_type": "code",
   "execution_count": 47,
   "id": "d61b054c",
   "metadata": {},
   "outputs": [
    {
     "ename": "NameError",
     "evalue": "name 'x_train_chi2' is not defined",
     "output_type": "error",
     "traceback": [
      "\u001b[1;31m---------------------------------------------------------------------------\u001b[0m",
      "\u001b[1;31mNameError\u001b[0m                                 Traceback (most recent call last)",
      "Cell \u001b[1;32mIn[47], line 6\u001b[0m\n\u001b[0;32m      3\u001b[0m \u001b[38;5;28;01mfrom\u001b[39;00m \u001b[38;5;21;01msklearn\u001b[39;00m\u001b[38;5;21;01m.\u001b[39;00m\u001b[38;5;21;01mmetrics\u001b[39;00m \u001b[38;5;28;01mimport\u001b[39;00m classification_report\n\u001b[0;32m      4\u001b[0m clfSVM \u001b[38;5;241m=\u001b[39m SVC()\n\u001b[1;32m----> 6\u001b[0m clfSVM\u001b[38;5;241m.\u001b[39mfit(\u001b[43mx_train_chi2\u001b[49m, y_train_tf)\n",
      "\u001b[1;31mNameError\u001b[0m: name 'x_train_chi2' is not defined"
     ]
    }
   ],
   "source": [
    "# fast test with training with svm\n",
    "from sklearn.svm import SVC\n",
    "from sklearn.metrics import classification_report\n",
    "clfSVM = SVC()\n",
    "\n",
    "clfSVM.fit(x_train_chi2, y_train_tf)"
   ]
  },
  {
   "cell_type": "code",
   "execution_count": null,
   "id": "41682a82",
   "metadata": {},
   "outputs": [],
   "source": [
    "y_pred_svc = clfSVM.predict(x_test_chi2)"
   ]
  },
  {
   "cell_type": "code",
   "execution_count": null,
   "id": "5dd06d1d",
   "metadata": {},
   "outputs": [
    {
     "name": "stdout",
     "output_type": "stream",
     "text": [
      "              precision    recall  f1-score   support\n",
      "\n",
      "           0       0.89      0.88      0.89      2463\n",
      "           1       0.88      0.90      0.89      2537\n",
      "\n",
      "    accuracy                           0.89      5000\n",
      "   macro avg       0.89      0.89      0.89      5000\n",
      "weighted avg       0.89      0.89      0.89      5000\n",
      "\n"
     ]
    },
    {
     "data": {
      "image/png": "[encoded data removed]",
      "text/plain": [
       "<Figure size 640x480 with 1 Axes>"
      ]
     },
     "metadata": {},
     "output_type": "display_data"
    }
   ],
   "source": [
    "#testear\n",
    "print(classification_report(y_test_tf, y_pred_svc))\n",
    "matriz_confusion(y_test_tf, y_pred_svc, \"SVM\")"
   ]
  },
  {
   "cell_type": "markdown",
   "id": "5ae38ea9",
   "metadata": {},
   "source": [
    "### SVM con WORD2VEC"
   ]
  },
  {
   "cell_type": "code",
   "execution_count": null,
   "id": "a5746478",
   "metadata": {},
   "outputs": [
    {
     "data": {
      "text/html": [
       "<style>#sk-container-id-1 {\n",
       "  /* Definition of color scheme common for light and dark mode */\n",
       "  --sklearn-color-text: black;\n",
       "  --sklearn-color-line: gray;\n",
       "  /* Definition of color scheme for unfitted estimators */\n",
       "  --sklearn-color-unfitted-level-0: #fff5e6;\n",
       "  --sklearn-color-unfitted-level-1: #f6e4d2;\n",
       "  --sklearn-color-unfitted-level-2: #ffe0b3;\n",
       "  --sklearn-color-unfitted-level-3: chocolate;\n",
       "  /* Definition of color scheme for fitted estimators */\n",
       "  --sklearn-color-fitted-level-0: #f0f8ff;\n",
       "  --sklearn-color-fitted-level-1: #d4ebff;\n",
       "  --sklearn-color-fitted-level-2: #b3dbfd;\n",
       "  --sklearn-color-fitted-level-3: cornflowerblue;\n",
       "\n",
       "  /* Specific color for light theme */\n",
       "  --sklearn-color-text-on-default-background: var(--sg-text-color, var(--theme-code-foreground, var(--jp-content-font-color1, black)));\n",
       "  --sklearn-color-background: var(--sg-background-color, var(--theme-background, var(--jp-layout-color0, white)));\n",
       "  --sklearn-color-border-box: var(--sg-text-color, var(--theme-code-foreground, var(--jp-content-font-color1, black)));\n",
       "  --sklearn-color-icon: #696969;\n",
       "\n",
       "  @media (prefers-color-scheme: dark) {\n",
       "    /* Redefinition of color scheme for dark theme */\n",
       "    --sklearn-color-text-on-default-background: var(--sg-text-color, var(--theme-code-foreground, var(--jp-content-font-color1, white)));\n",
       "    --sklearn-color-background: var(--sg-background-color, var(--theme-background, var(--jp-layout-color0, #111)));\n",
       "    --sklearn-color-border-box: var(--sg-text-color, var(--theme-code-foreground, var(--jp-content-font-color1, white)));\n",
       "    --sklearn-color-icon: #878787;\n",
       "  }\n",
       "}\n",
       "\n",
       "#sk-container-id-1 {\n",
       "  color: var(--sklearn-color-text);\n",
       "}\n",
       "\n",
       "#sk-container-id-1 pre {\n",
       "  padding: 0;\n",
       "}\n",
       "\n",
       "#sk-container-id-1 input.sk-hidden--visually {\n",
       "  border: 0;\n",
       "  clip: rect(1px 1px 1px 1px);\n",
       "  clip: rect(1px, 1px, 1px, 1px);\n",
       "  height: 1px;\n",
       "  margin: -1px;\n",
       "  overflow: hidden;\n",
       "  padding: 0;\n",
       "  position: absolute;\n",
       "  width: 1px;\n",
       "}\n",
       "\n",
       "#sk-container-id-1 div.sk-dashed-wrapped {\n",
       "  border: 1px dashed var(--sklearn-color-line);\n",
       "  margin: 0 0.4em 0.5em 0.4em;\n",
       "  box-sizing: border-box;\n",
       "  padding-bottom: 0.4em;\n",
       "  background-color: var(--sklearn-color-background);\n",
       "}\n",
       "\n",
       "#sk-container-id-1 div.sk-container {\n",
       "  /* jupyter's `normalize.less` sets `[hidden] { display: none; }`\n",
       "     but bootstrap.min.css set `[hidden] { display: none !important; }`\n",
       "     so we also need the `!important` here to be able to override the\n",
       "     default hidden behavior on the sphinx rendered scikit-learn.org.\n",
       "     See: https://github.com/scikit-learn/scikit-learn/issues/21755 */\n",
       "  display: inline-block !important;\n",
       "  position: relative;\n",
       "}\n",
       "\n",
       "#sk-container-id-1 div.sk-text-repr-fallback {\n",
       "  display: none;\n",
       "}\n",
       "\n",
       "div.sk-parallel-item,\n",
       "div.sk-serial,\n",
       "div.sk-item {\n",
       "  /* draw centered vertical line to link estimators */\n",
       "  background-image: linear-gradient(var(--sklearn-color-text-on-default-background), var(--sklearn-color-text-on-default-background));\n",
       "  background-size: 2px 100%;\n",
       "  background-repeat: no-repeat;\n",
       "  background-position: center center;\n",
       "}\n",
       "\n",
       "/* Parallel-specific style estimator block */\n",
       "\n",
       "#sk-container-id-1 div.sk-parallel-item::after {\n",
       "  content: \"\";\n",
       "  width: 100%;\n",
       "  border-bottom: 2px solid var(--sklearn-color-text-on-default-background);\n",
       "  flex-grow: 1;\n",
       "}\n",
       "\n",
       "#sk-container-id-1 div.sk-parallel {\n",
       "  display: flex;\n",
       "  align-items: stretch;\n",
       "  justify-content: center;\n",
       "  background-color: var(--sklearn-color-background);\n",
       "  position: relative;\n",
       "}\n",
       "\n",
       "#sk-container-id-1 div.sk-parallel-item {\n",
       "  display: flex;\n",
       "  flex-direction: column;\n",
       "}\n",
       "\n",
       "#sk-container-id-1 div.sk-parallel-item:first-child::after {\n",
       "  align-self: flex-end;\n",
       "  width: 50%;\n",
       "}\n",
       "\n",
       "#sk-container-id-1 div.sk-parallel-item:last-child::after {\n",
       "  align-self: flex-start;\n",
       "  width: 50%;\n",
       "}\n",
       "\n",
       "#sk-container-id-1 div.sk-parallel-item:only-child::after {\n",
       "  width: 0;\n",
       "}\n",
       "\n",
       "/* Serial-specific style estimator block */\n",
       "\n",
       "#sk-container-id-1 div.sk-serial {\n",
       "  display: flex;\n",
       "  flex-direction: column;\n",
       "  align-items: center;\n",
       "  background-color: var(--sklearn-color-background);\n",
       "  padding-right: 1em;\n",
       "  padding-left: 1em;\n",
       "}\n",
       "\n",
       "\n",
       "/* Toggleable style: style used for estimator/Pipeline/ColumnTransformer box that is\n",
       "clickable and can be expanded/collapsed.\n",
       "- Pipeline and ColumnTransformer use this feature and define the default style\n",
       "- Estimators will overwrite some part of the style using the `sk-estimator` class\n",
       "*/\n",
       "\n",
       "/* Pipeline and ColumnTransformer style (default) */\n",
       "\n",
       "#sk-container-id-1 div.sk-toggleable {\n",
       "  /* Default theme specific background. It is overwritten whether we have a\n",
       "  specific estimator or a Pipeline/ColumnTransformer */\n",
       "  background-color: var(--sklearn-color-background);\n",
       "}\n",
       "\n",
       "/* Toggleable label */\n",
       "#sk-container-id-1 label.sk-toggleable__label {\n",
       "  cursor: pointer;\n",
       "  display: block;\n",
       "  width: 100%;\n",
       "  margin-bottom: 0;\n",
       "  padding: 0.5em;\n",
       "  box-sizing: border-box;\n",
       "  text-align: center;\n",
       "}\n",
       "\n",
       "#sk-container-id-1 label.sk-toggleable__label-arrow:before {\n",
       "  /* Arrow on the left of the label */\n",
       "  content: \"▸\";\n",
       "  float: left;\n",
       "  margin-right: 0.25em;\n",
       "  color: var(--sklearn-color-icon);\n",
       "}\n",
       "\n",
       "#sk-container-id-1 label.sk-toggleable__label-arrow:hover:before {\n",
       "  color: var(--sklearn-color-text);\n",
       "}\n",
       "\n",
       "/* Toggleable content - dropdown */\n",
       "\n",
       "#sk-container-id-1 div.sk-toggleable__content {\n",
       "  max-height: 0;\n",
       "  max-width: 0;\n",
       "  overflow: hidden;\n",
       "  text-align: left;\n",
       "  /* unfitted */\n",
       "  background-color: var(--sklearn-color-unfitted-level-0);\n",
       "}\n",
       "\n",
       "#sk-container-id-1 div.sk-toggleable__content.fitted {\n",
       "  /* fitted */\n",
       "  background-color: var(--sklearn-color-fitted-level-0);\n",
       "}\n",
       "\n",
       "#sk-container-id-1 div.sk-toggleable__content pre {\n",
       "  margin: 0.2em;\n",
       "  border-radius: 0.25em;\n",
       "  color: var(--sklearn-color-text);\n",
       "  /* unfitted */\n",
       "  background-color: var(--sklearn-color-unfitted-level-0);\n",
       "}\n",
       "\n",
       "#sk-container-id-1 div.sk-toggleable__content.fitted pre {\n",
       "  /* unfitted */\n",
       "  background-color: var(--sklearn-color-fitted-level-0);\n",
       "}\n",
       "\n",
       "#sk-container-id-1 input.sk-toggleable__control:checked~div.sk-toggleable__content {\n",
       "  /* Expand drop-down */\n",
       "  max-height: 200px;\n",
       "  max-width: 100%;\n",
       "  overflow: auto;\n",
       "}\n",
       "\n",
       "#sk-container-id-1 input.sk-toggleable__control:checked~label.sk-toggleable__label-arrow:before {\n",
       "  content: \"▾\";\n",
       "}\n",
       "\n",
       "/* Pipeline/ColumnTransformer-specific style */\n",
       "\n",
       "#sk-container-id-1 div.sk-label input.sk-toggleable__control:checked~label.sk-toggleable__label {\n",
       "  color: var(--sklearn-color-text);\n",
       "  background-color: var(--sklearn-color-unfitted-level-2);\n",
       "}\n",
       "\n",
       "#sk-container-id-1 div.sk-label.fitted input.sk-toggleable__control:checked~label.sk-toggleable__label {\n",
       "  background-color: var(--sklearn-color-fitted-level-2);\n",
       "}\n",
       "\n",
       "/* Estimator-specific style */\n",
       "\n",
       "/* Colorize estimator box */\n",
       "#sk-container-id-1 div.sk-estimator input.sk-toggleable__control:checked~label.sk-toggleable__label {\n",
       "  /* unfitted */\n",
       "  background-color: var(--sklearn-color-unfitted-level-2);\n",
       "}\n",
       "\n",
       "#sk-container-id-1 div.sk-estimator.fitted input.sk-toggleable__control:checked~label.sk-toggleable__label {\n",
       "  /* fitted */\n",
       "  background-color: var(--sklearn-color-fitted-level-2);\n",
       "}\n",
       "\n",
       "#sk-container-id-1 div.sk-label label.sk-toggleable__label,\n",
       "#sk-container-id-1 div.sk-label label {\n",
       "  /* The background is the default theme color */\n",
       "  color: var(--sklearn-color-text-on-default-background);\n",
       "}\n",
       "\n",
       "/* On hover, darken the color of the background */\n",
       "#sk-container-id-1 div.sk-label:hover label.sk-toggleable__label {\n",
       "  color: var(--sklearn-color-text);\n",
       "  background-color: var(--sklearn-color-unfitted-level-2);\n",
       "}\n",
       "\n",
       "/* Label box, darken color on hover, fitted */\n",
       "#sk-container-id-1 div.sk-label.fitted:hover label.sk-toggleable__label.fitted {\n",
       "  color: var(--sklearn-color-text);\n",
       "  background-color: var(--sklearn-color-fitted-level-2);\n",
       "}\n",
       "\n",
       "/* Estimator label */\n",
       "\n",
       "#sk-container-id-1 div.sk-label label {\n",
       "  font-family: monospace;\n",
       "  font-weight: bold;\n",
       "  display: inline-block;\n",
       "  line-height: 1.2em;\n",
       "}\n",
       "\n",
       "#sk-container-id-1 div.sk-label-container {\n",
       "  text-align: center;\n",
       "}\n",
       "\n",
       "/* Estimator-specific */\n",
       "#sk-container-id-1 div.sk-estimator {\n",
       "  font-family: monospace;\n",
       "  border: 1px dotted var(--sklearn-color-border-box);\n",
       "  border-radius: 0.25em;\n",
       "  box-sizing: border-box;\n",
       "  margin-bottom: 0.5em;\n",
       "  /* unfitted */\n",
       "  background-color: var(--sklearn-color-unfitted-level-0);\n",
       "}\n",
       "\n",
       "#sk-container-id-1 div.sk-estimator.fitted {\n",
       "  /* fitted */\n",
       "  background-color: var(--sklearn-color-fitted-level-0);\n",
       "}\n",
       "\n",
       "/* on hover */\n",
       "#sk-container-id-1 div.sk-estimator:hover {\n",
       "  /* unfitted */\n",
       "  background-color: var(--sklearn-color-unfitted-level-2);\n",
       "}\n",
       "\n",
       "#sk-container-id-1 div.sk-estimator.fitted:hover {\n",
       "  /* fitted */\n",
       "  background-color: var(--sklearn-color-fitted-level-2);\n",
       "}\n",
       "\n",
       "/* Specification for estimator info (e.g. \"i\" and \"?\") */\n",
       "\n",
       "/* Common style for \"i\" and \"?\" */\n",
       "\n",
       ".sk-estimator-doc-link,\n",
       "a:link.sk-estimator-doc-link,\n",
       "a:visited.sk-estimator-doc-link {\n",
       "  float: right;\n",
       "  font-size: smaller;\n",
       "  line-height: 1em;\n",
       "  font-family: monospace;\n",
       "  background-color: var(--sklearn-color-background);\n",
       "  border-radius: 1em;\n",
       "  height: 1em;\n",
       "  width: 1em;\n",
       "  text-decoration: none !important;\n",
       "  margin-left: 1ex;\n",
       "  /* unfitted */\n",
       "  border: var(--sklearn-color-unfitted-level-1) 1pt solid;\n",
       "  color: var(--sklearn-color-unfitted-level-1);\n",
       "}\n",
       "\n",
       ".sk-estimator-doc-link.fitted,\n",
       "a:link.sk-estimator-doc-link.fitted,\n",
       "a:visited.sk-estimator-doc-link.fitted {\n",
       "  /* fitted */\n",
       "  border: var(--sklearn-color-fitted-level-1) 1pt solid;\n",
       "  color: var(--sklearn-color-fitted-level-1);\n",
       "}\n",
       "\n",
       "/* On hover */\n",
       "div.sk-estimator:hover .sk-estimator-doc-link:hover,\n",
       ".sk-estimator-doc-link:hover,\n",
       "div.sk-label-container:hover .sk-estimator-doc-link:hover,\n",
       ".sk-estimator-doc-link:hover {\n",
       "  /* unfitted */\n",
       "  background-color: var(--sklearn-color-unfitted-level-3);\n",
       "  color: var(--sklearn-color-background);\n",
       "  text-decoration: none;\n",
       "}\n",
       "\n",
       "div.sk-estimator.fitted:hover .sk-estimator-doc-link.fitted:hover,\n",
       ".sk-estimator-doc-link.fitted:hover,\n",
       "div.sk-label-container:hover .sk-estimator-doc-link.fitted:hover,\n",
       ".sk-estimator-doc-link.fitted:hover {\n",
       "  /* fitted */\n",
       "  background-color: var(--sklearn-color-fitted-level-3);\n",
       "  color: var(--sklearn-color-background);\n",
       "  text-decoration: none;\n",
       "}\n",
       "\n",
       "/* Span, style for the box shown on hovering the info icon */\n",
       ".sk-estimator-doc-link span {\n",
       "  display: none;\n",
       "  z-index: 9999;\n",
       "  position: relative;\n",
       "  font-weight: normal;\n",
       "  right: .2ex;\n",
       "  padding: .5ex;\n",
       "  margin: .5ex;\n",
       "  width: min-content;\n",
       "  min-width: 20ex;\n",
       "  max-width: 50ex;\n",
       "  color: var(--sklearn-color-text);\n",
       "  box-shadow: 2pt 2pt 4pt #999;\n",
       "  /* unfitted */\n",
       "  background: var(--sklearn-color-unfitted-level-0);\n",
       "  border: .5pt solid var(--sklearn-color-unfitted-level-3);\n",
       "}\n",
       "\n",
       ".sk-estimator-doc-link.fitted span {\n",
       "  /* fitted */\n",
       "  background: var(--sklearn-color-fitted-level-0);\n",
       "  border: var(--sklearn-color-fitted-level-3);\n",
       "}\n",
       "\n",
       ".sk-estimator-doc-link:hover span {\n",
       "  display: block;\n",
       "}\n",
       "\n",
       "/* \"?\"-specific style due to the `<a>` HTML tag */\n",
       "\n",
       "#sk-container-id-1 a.estimator_doc_link {\n",
       "  float: right;\n",
       "  font-size: 1rem;\n",
       "  line-height: 1em;\n",
       "  font-family: monospace;\n",
       "  background-color: var(--sklearn-color-background);\n",
       "  border-radius: 1rem;\n",
       "  height: 1rem;\n",
       "  width: 1rem;\n",
       "  text-decoration: none;\n",
       "  /* unfitted */\n",
       "  color: var(--sklearn-color-unfitted-level-1);\n",
       "  border: var(--sklearn-color-unfitted-level-1) 1pt solid;\n",
       "}\n",
       "\n",
       "#sk-container-id-1 a.estimator_doc_link.fitted {\n",
       "  /* fitted */\n",
       "  border: var(--sklearn-color-fitted-level-1) 1pt solid;\n",
       "  color: var(--sklearn-color-fitted-level-1);\n",
       "}\n",
       "\n",
       "/* On hover */\n",
       "#sk-container-id-1 a.estimator_doc_link:hover {\n",
       "  /* unfitted */\n",
       "  background-color: var(--sklearn-color-unfitted-level-3);\n",
       "  color: var(--sklearn-color-background);\n",
       "  text-decoration: none;\n",
       "}\n",
       "\n",
       "#sk-container-id-1 a.estimator_doc_link.fitted:hover {\n",
       "  /* fitted */\n",
       "  background-color: var(--sklearn-color-fitted-level-3);\n",
       "}\n",
       "</style><div id=\"sk-container-id-1\" class=\"sk-top-container\"><div class=\"sk-text-repr-fallback\"><pre>SVC()</pre><b>In a Jupyter environment, please rerun this cell to show the HTML representation or trust the notebook. <br />On GitHub, the HTML representation is unable to render, please try loading this page with nbviewer.org.</b></div><div class=\"sk-container\" hidden><div class=\"sk-item\"><div class=\"sk-estimator fitted sk-toggleable\"><input class=\"sk-toggleable__control sk-hidden--visually\" id=\"sk-estimator-id-1\" type=\"checkbox\" checked><label for=\"sk-estimator-id-1\" class=\"sk-toggleable__label fitted sk-toggleable__label-arrow fitted\">&nbsp;&nbsp;SVC<a class=\"sk-estimator-doc-link fitted\" rel=\"noreferrer\" target=\"_blank\" href=\"https://scikit-learn.org/1.5/modules/generated/sklearn.svm.SVC.html\">?<span>Documentation for SVC</span></a><span class=\"sk-estimator-doc-link fitted\">i<span>Fitted</span></span></label><div class=\"sk-toggleable__content fitted\"><pre>SVC()</pre></div> </div></div></div></div>"
      ],
      "text/plain": [
       "SVC()"
      ]
     },
     "execution_count": 25,
     "metadata": {},
     "output_type": "execute_result"
    }
   ],
   "source": [
    "# fast test with training with svm\n",
    "from sklearn.svm import SVC\n",
    "from sklearn.metrics import classification_report\n",
    "clfSVM_W2V = SVC()\n",
    "\n",
    "clfSVM_W2V.fit(x_train_wd.sum(axis=1), y_train_wd)"
   ]
  },
  {
   "cell_type": "code",
   "execution_count": null,
   "id": "9651065c",
   "metadata": {},
   "outputs": [],
   "source": [
    "y_pred_svc = clfSVM_W2V.predict(x_test_wd.sum(axis=1))"
   ]
  },
  {
   "cell_type": "code",
   "execution_count": null,
   "id": "71cf9151",
   "metadata": {},
   "outputs": [
    {
     "name": "stdout",
     "output_type": "stream",
     "text": [
      "              precision    recall  f1-score   support\n",
      "\n",
      "           0       0.86      0.85      0.86      2463\n",
      "           1       0.86      0.87      0.86      2537\n",
      "\n",
      "    accuracy                           0.86      5000\n",
      "   macro avg       0.86      0.86      0.86      5000\n",
      "weighted avg       0.86      0.86      0.86      5000\n",
      "\n"
     ]
    },
    {
     "data": {
      "image/png": "[encoded data removed]",
      "text/plain": [
       "<Figure size 640x480 with 1 Axes>"
      ]
     },
     "metadata": {},
     "output_type": "display_data"
    }
   ],
   "source": [
    "#testear\n",
    "print(classification_report(y_test_wd, y_pred_svc))\n",
    "matriz_confusion(y_test_wd, y_pred_svc, \"SVM\")"
   ]
  },
  {
   "cell_type": "markdown",
   "id": "3f46aad7",
   "metadata": {},
   "source": [
    "## DT"
   ]
  },
  {
   "cell_type": "markdown",
   "id": "f7fdad46",
   "metadata": {},
   "source": [
    "## MLP TEST"
   ]
  },
  {
   "cell_type": "code",
   "execution_count": null,
   "id": "79bd7ef2",
   "metadata": {},
   "outputs": [
    {
     "name": "stdout",
     "output_type": "stream",
     "text": [
      "cuda:0\n"
     ]
    }
   ],
   "source": [
    "# Prepare Colab to work with CUDA.\n",
    "device = torch.device('cuda:0' if torch.cuda.is_available() else 'cpu')\n",
    "print(device)"
   ]
  },
  {
   "cell_type": "markdown",
   "id": "fe299c6e",
   "metadata": {},
   "source": [
    "#### Arquitectura"
   ]
  },
  {
   "cell_type": "code",
   "execution_count": null,
   "id": "ac3ef539",
   "metadata": {},
   "outputs": [],
   "source": [
    "#MLP\n",
    "import torch.nn as nn\n",
    "\n",
    "#0.84\n",
    "# INPUT_SIZE = 1000\n",
    "# OUTPUT_SIZE = 2\n",
    "# LAYERS = 2\n",
    "# LAYER_SIZE = 1000\n",
    "\n",
    "INPUT_SIZE = n_features\n",
    "OUTPUT_SIZE = 2\n",
    "LAYERS = 10\n",
    "LAYER_SIZE = 100\n",
    "DROPOUT_RATE = 0.5\n",
    "BATCH_SIZE = 64\n",
    "\n",
    "\n",
    "class MLP(nn.Module):\n",
    "    def __init__(self):\n",
    "        super(MLP, self).__init__()\n",
    "        self.layers = nn.ModuleList()\n",
    "\n",
    "        # Primera capa\n",
    "        self.layers.append(nn.Linear(INPUT_SIZE, LAYER_SIZE))\n",
    "        self.layers.append(nn.BatchNorm1d(LAYER_SIZE))\n",
    "        self.layers.append(nn.ReLU())\n",
    "        self.layers.append(nn.Dropout(DROPOUT_RATE))\n",
    "\n",
    "        # Capas intermedias\n",
    "        for _ in range(LAYERS):\n",
    "            self.layers.append(nn.Linear(LAYER_SIZE, LAYER_SIZE))\n",
    "            self.layers.append(nn.BatchNorm1d(LAYER_SIZE))\n",
    "            self.layers.append(nn.ReLU())\n",
    "            self.layers.append(nn.Dropout(DROPOUT_RATE))\n",
    "\n",
    "        # Última capa\n",
    "        self.layers.append(nn.Linear(LAYER_SIZE, OUTPUT_SIZE))\n",
    "\n",
    "    def forward(self, x):\n",
    "        for layer in self.layers:\n",
    "            x = layer(x)\n",
    "        return x"
   ]
  },
  {
   "cell_type": "code",
   "execution_count": null,
   "id": "75ec412c",
   "metadata": {},
   "outputs": [],
   "source": [
    "from torch import nn\n",
    "INPUT_SIZE = n_features\n",
    "OUTPUT_SIZE = 2\n",
    "BATCH_SIZE = 32\n",
    "LAYER_SIZE = 400\n",
    "\n",
    "#0.86 accuracy\n",
    "class MLP(nn.Module):\n",
    "    def __init__(self):\n",
    "        super(MLP, self).__init__()\n",
    "        \n",
    "        # Primera capa\n",
    "        self.layer1 = nn.Sequential(\n",
    "            nn.Linear(INPUT_SIZE, LAYER_SIZE),\n",
    "            nn.BatchNorm1d(LAYER_SIZE),\n",
    "            nn.ReLU(),\n",
    "            nn.Dropout(0.5),\n",
    "        )\n",
    "        \n",
    "        self.layer2 = nn.Sequential(\n",
    "            nn.Linear(LAYER_SIZE, LAYER_SIZE),\n",
    "            nn.BatchNorm1d(LAYER_SIZE),\n",
    "            nn.ReLU(),\n",
    "            nn.Dropout(0.5),\n",
    "        )\n",
    "        \n",
    "        self.layer3 = nn.Sequential(\n",
    "            nn.Linear(LAYER_SIZE, LAYER_SIZE),\n",
    "            nn.BatchNorm1d(LAYER_SIZE),\n",
    "            nn.ReLU(),\n",
    "            nn.Dropout(0.5),\n",
    "        )\n",
    "        \n",
    "        self.layer4 = nn.Sequential(\n",
    "            nn.Linear(LAYER_SIZE, OUTPUT_SIZE)\n",
    "        )\n",
    "        \n",
    "    def forward(self, x):\n",
    "        x = self.layer1(x)\n",
    "        x = self.layer2(x)\n",
    "        x = self.layer3(x)\n",
    "        x = self.layer4(x)\n",
    "        return x"
   ]
  },
  {
   "cell_type": "code",
   "execution_count": null,
   "id": "95265bbf",
   "metadata": {},
   "outputs": [],
   "source": [
    "from torch import nn\n",
    "INPUT_SIZE = n_features\n",
    "OUTPUT_SIZE = 2\n",
    "BATCH_SIZE = 256\n",
    "LAYER_SIZE = 10\n",
    "\n",
    "#\n",
    "class MLP(nn.Module):\n",
    "    def __init__(self):\n",
    "        super(MLP, self).__init__()\n",
    "        \n",
    "        # Primera capa\n",
    "        self.layer1 = nn.Sequential(\n",
    "            nn.Linear(INPUT_SIZE, LAYER_SIZE),\n",
    "            nn.BatchNorm1d(LAYER_SIZE),\n",
    "            nn.LeakyReLU(),\n",
    "            nn.Dropout(0.5),\n",
    "        )\n",
    "        \n",
    "        self.layer2 = nn.Sequential(\n",
    "            nn.Linear(LAYER_SIZE, LAYER_SIZE),\n",
    "            nn.BatchNorm1d(LAYER_SIZE),\n",
    "            nn.LeakyReLU(),\n",
    "            nn.Dropout(0.5),\n",
    "        )\n",
    "        \n",
    "        self.layer3 = nn.Sequential(\n",
    "            nn.Linear(LAYER_SIZE, LAYER_SIZE),\n",
    "            nn.BatchNorm1d(LAYER_SIZE),\n",
    "            nn.LeakyReLU(),\n",
    "            nn.Dropout(0.5),\n",
    "        )\n",
    "        \n",
    "        self.layer4 = nn.Sequential(\n",
    "            nn.Linear(LAYER_SIZE, OUTPUT_SIZE)\n",
    "        )\n",
    "        \n",
    "    def forward(self, x):\n",
    "        x = self.layer1(x)\n",
    "        x = self.layer2(x)\n",
    "        x = self.layer3(x)\n",
    "        x = self.layer4(x)\n",
    "        return x"
   ]
  },
  {
   "cell_type": "markdown",
   "id": "a81ec226",
   "metadata": {},
   "source": [
    "#### Entrenamiento"
   ]
  },
  {
   "cell_type": "code",
   "execution_count": null,
   "id": "4fddb748",
   "metadata": {},
   "outputs": [],
   "source": [
    "import torch\n",
    "# Modelos\n",
    "model = MLP().to(device)\n",
    "loss = torch.nn.CrossEntropyLoss() # Cross entropy\n",
    "# optimizer = torch.optim.Adam(model.parameters(), lr = 0.01, weight_decay=1e-5)\n",
    "optimizer = torch.optim.AdamW(model.parameters(), lr = 0.0075, weight_decay=1e-5)"
   ]
  },
  {
   "cell_type": "markdown",
   "id": "c46c2178",
   "metadata": {},
   "source": [
    "##### TEST 1 (TFIDF)"
   ]
  },
  {
   "cell_type": "code",
   "execution_count": null,
   "id": "99ed3783",
   "metadata": {},
   "outputs": [],
   "source": [
    "# x_train_dv = torch.tensor(x_train.toarray(), dtype=torch.float32)\n",
    "x_train_dv = torch.tensor(x_train_chi2.toarray(), dtype=torch.float32)\n",
    "y_train_dv = torch.tensor(y_train, dtype=torch.long)\n",
    "train_dataset = TensorDataset(x_train_dv, y_train_dv)\n",
    "train_loader = DataLoader(train_dataset, batch_size=BATCH_SIZE, shuffle=True)\n",
    "\n",
    "print(\"MLP TRAIN - TFIDF\")\n",
    "loss_list = train(model, loss, optimizer, 10, train_loader,\"MLP_TDIF\")"
   ]
  },
  {
   "cell_type": "markdown",
   "id": "69459856",
   "metadata": {},
   "source": [
    "##### TEST 2 (WORD2VEC)"
   ]
  },
  {
   "cell_type": "code",
   "execution_count": null,
   "id": "e74ec05e",
   "metadata": {},
   "outputs": [
    {
     "name": "stdout",
     "output_type": "stream",
     "text": [
      "MLP TRAIN - WORD2VEC\n",
      "Epoch 0: train loss: 0.2496\n",
      "Epoch 1: train loss: 0.2369\n",
      "Epoch 2: train loss: 0.2281\n",
      "Epoch 3: train loss: 0.2318\n",
      "Epoch 4: train loss: 0.2297\n",
      "Epoch 5: train loss: 0.2285\n",
      "Epoch 6: train loss: 0.2318\n",
      "Epoch 7: train loss: 0.2171\n",
      "Epoch 8: train loss: 0.2165\n",
      "Epoch 9: train loss: 0.2152\n",
      "Epoch 10: train loss: 0.2071\n",
      "Epoch 11: train loss: 0.2178\n",
      "Epoch 12: train loss: 0.2042\n",
      "Epoch 13: train loss: 0.2054\n",
      "Epoch 14: train loss: 0.2048\n",
      "Epoch 15: train loss: 0.2231\n",
      "Epoch 16: train loss: 0.2249\n",
      "Epoch 17: train loss: 0.2135\n",
      "Epoch 18: train loss: 0.2036\n",
      "Epoch 19: train loss: 0.2022\n"
     ]
    }
   ],
   "source": [
    "x_train_dv = torch.tensor(x_train_wd, dtype=torch.float32)\n",
    "y_train_dv = torch.tensor(y_train_wd, dtype=torch.long)\n",
    "\n",
    "train_dataset = TensorDataset(x_train_dv, y_train_dv)\n",
    "train_loader = DataLoader(train_dataset, batch_size=BATCH_SIZE, shuffle=True)\n",
    "\n",
    "print(\"MLP TRAIN - WORD2VEC\")\n",
    "loss_list = train(model, loss, optimizer, 20, train_loader,\"MLP_W2V_C\")"
   ]
  },
  {
   "cell_type": "markdown",
   "id": "6e71a8c3",
   "metadata": {},
   "source": [
    "#### Resultados"
   ]
  },
  {
   "cell_type": "code",
   "execution_count": null,
   "id": "74b26804",
   "metadata": {},
   "outputs": [],
   "source": [
    "# x_test_dv = torch.tensor(x_test.toarray(), dtype=torch.float32)\n",
    "#Test \n",
    "x_test_dv = torch.tensor(x_test_chi2.toarray(), dtype=torch.float32)\n",
    "y_test_dv = torch.tensor(y_test, dtype=torch.long)\n",
    "\n",
    "test_dataset = TensorDataset(x_test_dv, y_test_dv)\n",
    "test_loader = DataLoader(test_dataset, batch_size=BATCH_SIZE, shuffle=True)\n",
    "\n",
    "test(model, test_loader, \"MLP\")"
   ]
  },
  {
   "cell_type": "code",
   "execution_count": null,
   "id": "1cfd95de",
   "metadata": {},
   "outputs": [
    {
     "name": "stdout",
     "output_type": "stream",
     "text": [
      "F tensor([0, 1, 0,  ..., 1, 0, 0])\n",
      "F tensor([0, 1, 1,  ..., 1, 0, 1])\n",
      "              precision    recall  f1-score   support\n",
      "\n",
      "           0       0.80      0.74      0.77      2563\n",
      "           1       0.75      0.81      0.78      2437\n",
      "\n",
      "    accuracy                           0.77      5000\n",
      "   macro avg       0.77      0.77      0.77      5000\n",
      "weighted avg       0.77      0.77      0.77      5000\n",
      "\n"
     ]
    },
    {
     "data": {
      "image/png": "[encoded data removed]",
      "text/plain": [
       "<Figure size 640x480 with 1 Axes>"
      ]
     },
     "metadata": {},
     "output_type": "display_data"
    }
   ],
   "source": [
    "x_test_dv = torch.tensor(x_test_wd, dtype=torch.float32)\n",
    "y_test_dv = torch.tensor(y_test_wd, dtype=torch.long)\n",
    "\n",
    "test_dataset = TensorDataset(x_test_dv, y_test_dv)\n",
    "test_loader = DataLoader(test_dataset, batch_size=BATCH_SIZE, shuffle=True)\n",
    "\n",
    "test(model, test_loader, \"MLP\")"
   ]
  },
  {
   "cell_type": "code",
   "execution_count": null,
   "id": "367c3582",
   "metadata": {},
   "outputs": [],
   "source": [
    "#Exportar datos a csv\n",
    "x_submit_t = torch.tensor(x_submit_wd, dtype=torch.float32)\n",
    "submit_dataset = TensorDataset(x_submit_t)\n",
    "submit_loader = DataLoader(submit_dataset, batch_size=BATCH_SIZE, shuffle=False)\n",
    "\n",
    "all_preds = []\n",
    "model.eval()\n",
    "with torch.no_grad():\n",
    "    for batch in submit_loader:\n",
    "        batch = batch[0].to(device)\n",
    "        pred = model(batch)\n",
    "        pred = torch.argmax(pred, dim=1).cpu()\n",
    "        all_preds.extend(pred)\n",
    "\n",
    "label_map = {0: 'neg', 1: 'pos'}\n",
    "labels = [label_map[label.item()] for label in all_preds]\n",
    "\n",
    "ids = list(range(len(labels)))\n",
    "submission_df = pd.DataFrame({'ids': ids, 'label': labels})\n",
    "\n",
    "submission_df.to_csv('submit.csv', index=False)"
   ]
  },
  {
   "cell_type": "markdown",
   "id": "413e5353",
   "metadata": {},
   "source": [
    "## CNN TEST"
   ]
  },
  {
   "cell_type": "code",
   "execution_count": null,
   "id": "98860eb7",
   "metadata": {},
   "outputs": [
    {
     "name": "stdout",
     "output_type": "stream",
     "text": [
      "cuda:0\n"
     ]
    }
   ],
   "source": [
    "# Prepare Colab to work with CUDA.\n",
    "device = torch.device('cuda:0' if torch.cuda.is_available() else 'cpu')\n",
    "print(device)"
   ]
  },
  {
   "cell_type": "markdown",
   "id": "9de4896d",
   "metadata": {},
   "source": [
    "#### Arquitectura"
   ]
  },
  {
   "cell_type": "code",
   "execution_count": null,
   "id": "955e7b01",
   "metadata": {},
   "outputs": [
    {
     "data": {
      "text/plain": [
       "(20000, 250, 300)"
      ]
     },
     "execution_count": 57,
     "metadata": {},
     "output_type": "execute_result"
    }
   ],
   "source": [
    "x_train_wd.shape"
   ]
  },
  {
   "cell_type": "code",
   "execution_count": null,
   "id": "986f2ff9",
   "metadata": {},
   "outputs": [],
   "source": [
    "#CNN\n",
    "import torch.nn as nn\n",
    "\n",
    "channels = x_train_wd.shape[1]\n",
    "n_features = x_train_wd.shape[2]\n",
    "#ALFABET_SIZE = n_chars\n",
    "OUTPUT_SIZE = 2\n",
    "DROPOUT_RATE = 0.4\n",
    "BATCH_SIZE = 64\n",
    "\n",
    "class CNN(nn.Module):\n",
    "    def __init__(self):\n",
    "        super(CNN, self).__init__()\n",
    "        self.layerConv = nn.Sequential(\n",
    "            nn.Conv1d(in_channels=channels, out_channels=32, kernel_size=7, stride=1),\n",
    "            nn.ReLU(),\n",
    "            nn.MaxPool1d(kernel_size=2)\n",
    "            )\n",
    "    \n",
    "        #obtain the size of the output of the convolutional layers\n",
    "        output_size = self.layerConv(torch.rand(1, channels, n_features)).size()\n",
    "        layerFC_input = output_size[1] * output_size[2]\n",
    "        print(layerFC_input)\n",
    "        self.layerFC = nn.Sequential(\n",
    "            nn.Linear(layerFC_input, 64),\n",
    "            nn.BatchNorm1d(64),\n",
    "            nn.ReLU(),\n",
    "            nn.Dropout(DROPOUT_RATE),\n",
    "            nn.Linear(64, OUTPUT_SIZE))\n",
    "        \n",
    "    def forward(self, x):\n",
    "        #print(x.size())\n",
    "        out = self.layerConv(x)\n",
    "        #print(out.size())\n",
    "        out = out.reshape(out.size(0), -1)\n",
    "        #print(out.size())\n",
    "        out = self.layerFC(out)\n",
    "        return out"
   ]
  },
  {
   "cell_type": "markdown",
   "id": "e1fd8c42",
   "metadata": {},
   "source": [
    "#### Entrenamiento"
   ]
  },
  {
   "cell_type": "code",
   "execution_count": null,
   "id": "8e12c1ec",
   "metadata": {},
   "outputs": [
    {
     "name": "stdout",
     "output_type": "stream",
     "text": [
      "4704\n"
     ]
    }
   ],
   "source": [
    "# Modelos\n",
    "modelCNN = CNN().to(device)\n",
    "loss = torch.nn.CrossEntropyLoss() # Cross entropy\n",
    "# optimizer = torch.optim.Adam(model.parameters(), lr = 0.01, weight_decay=1e-5)\n",
    "optimizer = torch.optim.SGD(modelCNN.parameters(), lr = 0.01, weight_decay=1e-5)"
   ]
  },
  {
   "cell_type": "code",
   "execution_count": null,
   "id": "137c6622",
   "metadata": {},
   "outputs": [],
   "source": [
    "#cargar si existe\n",
    "modelCNN = CNN().to(device)\n",
    "modelCNN.load_state_dict(torch.load('modelCNN.pth'))\n",
    "loss = torch.nn.CrossEntropyLoss() # Cross entropy\n",
    "# optimizer = torch.optim.Adam(model.parameters(), lr = 0.01, weight_decay=1e-5)\n",
    "optimizer = torch.optim.AdamW(modelCNN.parameters(), lr = 0.005,weight_decay=1e-5)"
   ]
  },
  {
   "cell_type": "code",
   "execution_count": null,
   "id": "8a83e94e",
   "metadata": {},
   "outputs": [],
   "source": [
    "x_train_dv = torch.tensor(x_train_chi2.todense(), dtype=torch.float32)\n",
    "x_train_dv = x_train_dv.reshape(-1, 1, QUOTE_SIZE)\n",
    "\n",
    "y_train_dv = torch.tensor(y_train, dtype=torch.long)\n",
    "train_dataset = TensorDataset(x_train_dv, y_train_dv)\n",
    "train_loader = DataLoader(train_dataset, batch_size=BATCH_SIZE, shuffle=True)\n",
    "\n",
    "print(\"CNN TRAIN\")\n",
    "loss_list = train(modelCNN, loss, optimizer, 10, train_loader,\"modelCNN\")"
   ]
  },
  {
   "cell_type": "code",
   "execution_count": null,
   "id": "68d4e3d7",
   "metadata": {},
   "outputs": [],
   "source": [
    "# x_test_dv = torch.tensor(x_test.toarray(), dtype=torch.float32)\n",
    "x_train_dv = x_train_cq\n",
    "#x_train_dv = x_train_dv.reshape(-1, 1, x_train_cq[0].shape[0], x_train_cq[0].shape[1])\n",
    "\n",
    "print(x_train_dv.shape)\n",
    "y_train_dv = torch.tensor(y_train_cq, dtype=torch.long)\n",
    "\n",
    "train_dataset = TensorDataset(x_train_dv, y_train_dv)\n",
    "train_loader = DataLoader(train_dataset, batch_size=BATCH_SIZE, shuffle=True)\n",
    "\n",
    "print(\"CNN TRAIN\")\n",
    "loss_list = train(modelCNN, loss, optimizer, 10, train_loader,\"modelCNN_RT\")"
   ]
  },
  {
   "cell_type": "code",
   "execution_count": null,
   "id": "763aacc5",
   "metadata": {},
   "outputs": [
    {
     "name": "stdout",
     "output_type": "stream",
     "text": [
      "CNN TRAIN\n",
      "Epoch 0: train loss: 0.5658\n",
      "Epoch 1: train loss: 0.3788\n",
      "Epoch 2: train loss: 0.2936\n",
      "Epoch 3: train loss: 0.2249\n",
      "Epoch 4: train loss: 0.1704\n"
     ]
    }
   ],
   "source": [
    "x_train_dv = torch.tensor(x_train_wd, dtype=torch.float32)\n",
    "y_train_dv = torch.tensor(y_train_wd, dtype=torch.long)\n",
    "train_dataset = TensorDataset(x_train_dv, y_train_dv)\n",
    "\n",
    "train_loader = DataLoader(train_dataset, batch_size=BATCH_SIZE, shuffle=True)\n",
    "\n",
    "print(\"CNN TRAIN\")\n",
    "loss_list = train(modelCNN, loss, optimizer, 5, train_loader,\"modelCNN_WD\")"
   ]
  },
  {
   "cell_type": "markdown",
   "id": "55b91b01",
   "metadata": {},
   "source": [
    "#### Resultados"
   ]
  },
  {
   "cell_type": "code",
   "execution_count": null,
   "id": "f9b1cb8c",
   "metadata": {},
   "outputs": [
    {
     "name": "stdout",
     "output_type": "stream",
     "text": [
      "F tensor([1, 0, 0,  ..., 1, 0, 1])\n",
      "F tensor([1, 1, 1,  ..., 1, 1, 1])\n",
      "              precision    recall  f1-score   support\n",
      "\n",
      "           0       0.87      0.70      0.77      2563\n",
      "           1       0.74      0.89      0.80      2437\n",
      "\n",
      "    accuracy                           0.79      5000\n",
      "   macro avg       0.80      0.79      0.79      5000\n",
      "weighted avg       0.80      0.79      0.79      5000\n",
      "\n"
     ]
    },
    {
     "data": {
      "image/png": "[encoded data removed]",
      "text/plain": [
       "<Figure size 640x480 with 1 Axes>"
      ]
     },
     "metadata": {},
     "output_type": "display_data"
    }
   ],
   "source": [
    "# x_test_dv = torch.tensor(x_test.toarray(), dtype=torch.float32)\n",
    "x_test_dv = torch.tensor(x_test_wd, dtype=torch.float32)\n",
    "y_test_dv = torch.tensor(y_test_wd, dtype=torch.long)\n",
    "test_dataset = TensorDataset(x_test_dv, y_test_dv)\n",
    "test_loader = DataLoader(test_dataset, batch_size=BATCH_SIZE, shuffle=True)\n",
    "\n",
    "test(modelCNN, test_loader, \"CNN\")"
   ]
  },
  {
   "cell_type": "code",
   "execution_count": null,
   "id": "51b8af88",
   "metadata": {},
   "outputs": [],
   "source": [
    "#Exportar datos a csv\n",
    "x_submit_t = torch.tensor(x_submit_chi2.toarray(), dtype=torch.float32)\n",
    "x_submit_t = x_submit_t.reshape(-1, 1, n_features)\n",
    "submit_dataset = TensorDataset(x_submit_t)\n",
    "submit_loader = DataLoader(submit_dataset, batch_size=BATCH_SIZE, shuffle=False)\n",
    "\n",
    "all_preds = []\n",
    "modelCNN.eval()\n",
    "with torch.no_grad():\n",
    "    for batch in submit_loader:\n",
    "        batch = batch[0].to(device)\n",
    "        pred = modelCNN(batch)\n",
    "        pred = torch.argmax(pred, dim=1).cpu()\n",
    "        all_preds.extend(pred)\n",
    "\n",
    "label_map = {0: 'neg', 1: 'pos'}\n",
    "labels = [label_map[label.item()] for label in all_preds]\n",
    "\n",
    "ids = list(range(len(labels)))\n",
    "submission_df = pd.DataFrame({'ids': ids, 'label': labels})\n",
    "\n",
    "submission_df.to_csv('submit.csv', index=False)"
   ]
  },
  {
   "cell_type": "markdown",
   "id": "b2865932",
   "metadata": {},
   "source": [
    "## RNN"
   ]
  },
  {
   "cell_type": "markdown",
   "id": "cf5d4346",
   "metadata": {},
   "source": [
    "## LSTM"
   ]
  },
  {
   "cell_type": "markdown",
   "id": "193a4ba5",
   "metadata": {},
   "source": [
    "----\n",
    "# MISC\n",
    "\n"
   ]
  },
  {
   "cell_type": "code",
   "execution_count": 77,
   "id": "7bdb6e46",
   "metadata": {},
   "outputs": [],
   "source": [
    "#clear memory\n",
    "import gc\n",
    "import torch\n",
    "\n",
    "gc.collect()            # Llama al recolector de basura para liberar memoria\n",
    "torch.cuda.empty_cache()  # Limpia la memoria de GPU"
   ]
  },
  {
   "cell_type": "code",
   "execution_count": 19,
   "id": "6b50a666",
   "metadata": {},
   "outputs": [],
   "source": [
    "#delete all variables\n",
    "for name in dir():\n",
    "    if not name.startswith('_'):\n",
    "        del globals()[name]\n",
    "        \n",
    "del name"
   ]
  }
 ],
 "metadata": {
  "kernelspec": {
   "display_name": "Python 3 (ipykernel)",
   "language": "python",
   "name": "python3"
  },
  "language_info": {
   "codemirror_mode": {
    "name": "ipython",
    "version": 3
   },
   "file_extension": ".py",
   "mimetype": "text/x-python",
   "name": "python",
   "nbconvert_exporter": "python",
   "pygments_lexer": "ipython3",
   "version": "3.11.3"
  }
 },
 "nbformat": 4,
 "nbformat_minor": 5
}
