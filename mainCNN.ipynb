{
 "cells": [
  {
   "cell_type": "markdown",
   "id": "5e391635",
   "metadata": {},
   "source": [
    "# PROYECTO 4 - MACHINE LEARNING\n",
    "\n",
    "## Integrantes:\n",
    "1. Marcelo\n",
    "2. Alvaro\n",
    "3. Adrian\n",
    "4. \n",
    "\n",
    "---"
   ]
  },
  {
   "cell_type": "markdown",
   "id": "f8580106",
   "metadata": {},
   "source": [
    "# 1. Preparación y analisis de datos"
   ]
  },
  {
   "cell_type": "code",
   "execution_count": 4,
   "id": "897c14cd",
   "metadata": {},
   "outputs": [
    {
     "name": "stdout",
     "output_type": "stream",
     "text": [
      "Requirement already satisfied: scipy in f:\\tareas\\comp\\proyecto\\proy4-ml\\.venv\\lib\\site-packages (1.14.0)\n",
      "Requirement already satisfied: numpy<2.3,>=1.23.5 in f:\\tareas\\comp\\proyecto\\proy4-ml\\.venv\\lib\\site-packages (from scipy) (1.24.1)\n",
      "Note: you may need to restart the kernel to use updated packages.\n"
     ]
    }
   ],
   "source": [
    "# %pip install numpy\n",
    "# %pip install matplotlib\n",
    "%pip install scipy\n",
    "# %pip install pandas\n",
    "# %pip install scikit-learn\n",
    "# %pip install seaborn\n",
    "# %pip install nltk\n",
    "# %pip install gensim"
   ]
  },
  {
   "cell_type": "code",
   "execution_count": 2,
   "id": "1858c3be",
   "metadata": {},
   "outputs": [],
   "source": [
    "# %pip install torch torchvision torchaudio --index-url https://download.pytorch.org/whl/cu118"
   ]
  },
  {
   "cell_type": "code",
   "execution_count": 1,
   "id": "9b8cc384-772e-438a-94db-2a098973bfa7",
   "metadata": {},
   "outputs": [],
   "source": [
    "import os\n",
    "import glob\n",
    "\n",
    "import numpy as np\n",
    "import pandas as pd\n",
    "import seaborn as sns\n",
    "import matplotlib.pyplot as plt\n",
    "\n",
    "import nltk\n",
    "import torch\n",
    "from torch.utils.data import DataLoader, TensorDataset\n",
    "\n",
    "from matplotlib import rcParams\n",
    "from sklearn.decomposition import PCA\n",
    "from sklearn.preprocessing import StandardScaler\n",
    "\n",
    "\n",
    "import scipy\n",
    "import gensim\n",
    "\n",
    "np.random.seed(2024)"
   ]
  },
  {
   "cell_type": "code",
   "execution_count": 2,
   "id": "02ac4b2f-0057-403e-a4df-3ea0152c0438",
   "metadata": {},
   "outputs": [
    {
     "data": {
      "text/html": [
       "<div>\n",
       "<style scoped>\n",
       "    .dataframe tbody tr th:only-of-type {\n",
       "        vertical-align: middle;\n",
       "    }\n",
       "\n",
       "    .dataframe tbody tr th {\n",
       "        vertical-align: top;\n",
       "    }\n",
       "\n",
       "    .dataframe thead th {\n",
       "        text-align: right;\n",
       "    }\n",
       "</style>\n",
       "<table border=\"1\" class=\"dataframe\">\n",
       "  <thead>\n",
       "    <tr style=\"text-align: right;\">\n",
       "      <th></th>\n",
       "      <th>message</th>\n",
       "      <th>label</th>\n",
       "    </tr>\n",
       "  </thead>\n",
       "  <tbody>\n",
       "    <tr>\n",
       "      <th>count</th>\n",
       "      <td>25000</td>\n",
       "      <td>25000</td>\n",
       "    </tr>\n",
       "    <tr>\n",
       "      <th>unique</th>\n",
       "      <td>24904</td>\n",
       "      <td>2</td>\n",
       "    </tr>\n",
       "    <tr>\n",
       "      <th>top</th>\n",
       "      <td>How has this piece of crap stayed on TV this l...</td>\n",
       "      <td>neg</td>\n",
       "    </tr>\n",
       "    <tr>\n",
       "      <th>freq</th>\n",
       "      <td>3</td>\n",
       "      <td>12500</td>\n",
       "    </tr>\n",
       "  </tbody>\n",
       "</table>\n",
       "</div>"
      ],
      "text/plain": [
       "                                                  message  label\n",
       "count                                               25000  25000\n",
       "unique                                              24904      2\n",
       "top     How has this piece of crap stayed on TV this l...    neg\n",
       "freq                                                    3  12500"
      ]
     },
     "execution_count": 2,
     "metadata": {},
     "output_type": "execute_result"
    }
   ],
   "source": [
    "df_train = pd.read_csv(\"data/train.csv\")\n",
    "df_test = pd.read_csv(\"data/test.csv\")\n",
    "df_train.describe()"
   ]
  },
  {
   "cell_type": "code",
   "execution_count": 3,
   "id": "14f0620a-9444-4ede-bae6-0a4df647945c",
   "metadata": {},
   "outputs": [
    {
     "data": {
      "image/png": "[encoded data removed]",
      "text/plain": [
       "<Figure size 1400x700 with 1 Axes>"
      ]
     },
     "metadata": {},
     "output_type": "display_data"
    }
   ],
   "source": [
    "sns.set_theme(style=\"whitegrid\")\n",
    "plt.figure(figsize=(14, 7))\n",
    "sns.countplot(df_train.iloc[:, 1], order=df_train.iloc[:, 1].value_counts().index)\n",
    "\n",
    "# Configurar los títulos y etiquetas\n",
    "plt.title('Distribución de Labels')\n",
    "plt.xlabel('Frecuencia')\n",
    "plt.ylabel('Etiquetas')\n",
    "\n",
    "# Mostrar la gráfica\n",
    "plt.show()"
   ]
  },
  {
   "cell_type": "markdown",
   "id": "fcdca608",
   "metadata": {},
   "source": [
    "----\n",
    "# 2. Prepocesamiento"
   ]
  },
  {
   "cell_type": "markdown",
   "id": "7890cee1",
   "metadata": {},
   "source": [
    "## TF-IDF"
   ]
  },
  {
   "cell_type": "markdown",
   "id": "71df5c51",
   "metadata": {},
   "source": [
    "### Tokenizar, eliminar stopwords y Part-Of-Speech tag"
   ]
  },
  {
   "cell_type": "code",
   "execution_count": 29,
   "id": "ccfed2f4",
   "metadata": {},
   "outputs": [
    {
     "name": "stderr",
     "output_type": "stream",
     "text": [
      "[nltk_data] Downloading package punkt to\n",
      "[nltk_data]     C:\\Users\\andre\\AppData\\Roaming\\nltk_data...\n",
      "[nltk_data]   Package punkt is already up-to-date!\n",
      "[nltk_data] Downloading package stopwords to\n",
      "[nltk_data]     C:\\Users\\andre\\AppData\\Roaming\\nltk_data...\n",
      "[nltk_data]   Package stopwords is already up-to-date!\n",
      "[nltk_data] Downloading package averaged_perceptron_tagger to\n",
      "[nltk_data]     C:\\Users\\andre\\AppData\\Roaming\\nltk_data...\n",
      "[nltk_data]   Package averaged_perceptron_tagger is already up-to-\n",
      "[nltk_data]       date!\n",
      "[nltk_data] Downloading package wordnet to\n",
      "[nltk_data]     C:\\Users\\andre\\AppData\\Roaming\\nltk_data...\n",
      "[nltk_data]   Package wordnet is already up-to-date!\n"
     ]
    }
   ],
   "source": [
    "from nltk.corpus import stopwords\n",
    "from nltk.tokenize import word_tokenize\n",
    "from nltk import pos_tag\n",
    "from nltk.corpus import wordnet\n",
    "from nltk.stem import WordNetLemmatizer\n",
    "\n",
    "nltk.download('punkt')\n",
    "nltk.download('stopwords')\n",
    "nltk.download('averaged_perceptron_tagger')\n",
    "nltk.download('wordnet')\n",
    "\n",
    "stop_words = set(stopwords.words('english'))\n",
    "lemmatizer = WordNetLemmatizer()\n",
    "\n",
    "# Lista de palabras de negación sintáctica\n",
    "syntactic_negations = set([\"no\", \"not\", \"none\", \"never\", \"neither\", \"nor\", \"cannot\", \"can't\"])\n",
    "\n",
    "# Lista de prefijos de negación morfológica\n",
    "morphological_prefixes = [\"un\", \"in\", \"dis\", \"im\", \"ir\", \"non\", \"anti\"]\n",
    "\n",
    "def tokenize(text):\n",
    "    # return [word for word in word_tokenize(text.lower()) if word.isalpha() and word not in stop_words]\n",
    "    return [word for word in word_tokenize(text.lower()) if word.isalpha()]\n",
    "\n",
    "def pos_tagging(tokens):\n",
    "    return pos_tag(tokens)\n",
    "\n",
    "# Función para convertir etiquetas de POS de NLTK a etiquetas de WordNet\n",
    "def get_wordnet_pos(treebank_tag):\n",
    "    if treebank_tag.startswith('J'):\n",
    "        return wordnet.ADJ\n",
    "    elif treebank_tag.startswith('V'):\n",
    "        return wordnet.VERB\n",
    "    elif treebank_tag.startswith('N'):\n",
    "        return wordnet.NOUN\n",
    "    elif treebank_tag.startswith('R'):\n",
    "        return wordnet.ADV\n",
    "    else:\n",
    "        return None\n",
    "\n",
    "def mark_negations(tokens):\n",
    "    # Marca las palabras y frases con negaciones.\n",
    "    negated_tokens = []\n",
    "    negation = False\n",
    "    for token in tokens:\n",
    "        if token in syntactic_negations:\n",
    "            negation = True\n",
    "            negated_tokens.append(token)\n",
    "        elif negation:\n",
    "            if token in stop_words:\n",
    "                negated_tokens.append(token)\n",
    "            else:\n",
    "                negated_tokens.append(token + \"_NEG\")\n",
    "                negation = False\n",
    "        else:\n",
    "            negated_tokens.append(token)\n",
    "    \n",
    "    return negated_tokens\n",
    "\n",
    "# def mark_negations(tokens):\n",
    "#     negated_tokens = []\n",
    "#     negation = False\n",
    "#     for i, token in enumerate(tokens):\n",
    "#         if token in syntactic_negations:\n",
    "#             negation = True\n",
    "#             negated_tokens.append(token)\n",
    "#         elif negation:\n",
    "#             if token in stop_words:\n",
    "#                 negated_tokens.append(token)\n",
    "#             else:\n",
    "#                 negated_tokens.append(token + \"_NEG\")\n",
    "#                 # Detectar doble negación\n",
    "#                 if i > 0 and tokens[i - 1] == \"not\":\n",
    "#                     negated_tokens[i] = tokens[i]\n",
    "#                 negation = False\n",
    "#         else:\n",
    "#             negated_tokens.append(token)\n",
    "    \n",
    "#     return negated_tokens\n",
    "\n",
    "\n",
    "def handle_morphological_negations(tokens):\n",
    "    # Marca las palabras con prefijos de negación morfológica.\n",
    "    negated_tokens = []\n",
    "    for token in tokens:\n",
    "        for prefix in morphological_prefixes:\n",
    "            if token.startswith(prefix):\n",
    "                root = token[len(prefix):]\n",
    "                negated_tokens.append(root + \"_NEG\")\n",
    "                break\n",
    "        else:\n",
    "            negated_tokens.append(token)\n",
    "    \n",
    "    return negated_tokens\n",
    "\n",
    "def handle_double_negations(tokens):\n",
    "    negated_tokens = []\n",
    "    for i, token in enumerate(tokens):\n",
    "        if token.endswith(\"_NEG_NEG\"):\n",
    "            negated_tokens.append(token[:-8])\n",
    "        else:\n",
    "            negated_tokens.append(token)\n",
    "    \n",
    "    return negated_tokens\n",
    "\n",
    "def lemmatize(pos_tags):\n",
    "    return [lemmatizer.lemmatize(word, pos=get_wordnet_pos(pos) or wordnet.NOUN) for word, pos in pos_tags]\n",
    "\n",
    "def preprocess(df):\n",
    "    df['tokens'] = df['message'].apply(tokenize)\n",
    "    df['tokens'] = df['tokens'].apply(mark_negations)\n",
    "    df['tokens'] = df['tokens'].apply(lambda tokens: [token for token in tokens if token not in stop_words])\n",
    "    df['tokens'] = df['tokens'].apply(handle_morphological_negations)\n",
    "    df['tokens'] = df['tokens'].apply(handle_double_negations)\n",
    "    df['pos_tags'] = df['tokens'].apply(pos_tagging)\n",
    "    df['lemmas'] = df['pos_tags'].apply(lemmatize)\n",
    "    return df"
   ]
  },
  {
   "cell_type": "code",
   "execution_count": 45,
   "id": "124276f2",
   "metadata": {},
   "outputs": [
    {
     "data": {
      "text/html": [
       "<div>\n",
       "<style scoped>\n",
       "    .dataframe tbody tr th:only-of-type {\n",
       "        vertical-align: middle;\n",
       "    }\n",
       "\n",
       "    .dataframe tbody tr th {\n",
       "        vertical-align: top;\n",
       "    }\n",
       "\n",
       "    .dataframe thead th {\n",
       "        text-align: right;\n",
       "    }\n",
       "</style>\n",
       "<table border=\"1\" class=\"dataframe\">\n",
       "  <thead>\n",
       "    <tr style=\"text-align: right;\">\n",
       "      <th></th>\n",
       "      <th>message</th>\n",
       "      <th>tokens</th>\n",
       "      <th>lemmas</th>\n",
       "    </tr>\n",
       "  </thead>\n",
       "  <tbody>\n",
       "    <tr>\n",
       "      <th>0</th>\n",
       "      <td>The audience disliked the actor leading the play.</td>\n",
       "      <td>[audience, liked_NEG, actor, leading, play]</td>\n",
       "      <td>[audience, liked_NEG, actor, lead, play]</td>\n",
       "    </tr>\n",
       "    <tr>\n",
       "      <th>1</th>\n",
       "      <td>He was not supposed to come.</td>\n",
       "      <td>[supposed_NEG, come]</td>\n",
       "      <td>[supposed_NEG, come]</td>\n",
       "    </tr>\n",
       "    <tr>\n",
       "      <th>2</th>\n",
       "      <td>The price of the car is not insignificant.</td>\n",
       "      <td>[price, car, significant]</td>\n",
       "      <td>[price, car, significant]</td>\n",
       "    </tr>\n",
       "  </tbody>\n",
       "</table>\n",
       "</div>"
      ],
      "text/plain": [
       "                                             message  \\\n",
       "0  The audience disliked the actor leading the play.   \n",
       "1                       He was not supposed to come.   \n",
       "2         The price of the car is not insignificant.   \n",
       "\n",
       "                                        tokens  \\\n",
       "0  [audience, liked_NEG, actor, leading, play]   \n",
       "1                         [supposed_NEG, come]   \n",
       "2                    [price, car, significant]   \n",
       "\n",
       "                                     lemmas  \n",
       "0  [audience, liked_NEG, actor, lead, play]  \n",
       "1                      [supposed_NEG, come]  \n",
       "2                 [price, car, significant]  "
      ]
     },
     "execution_count": 45,
     "metadata": {},
     "output_type": "execute_result"
    }
   ],
   "source": [
    "# Ejemplo de uso\n",
    "import pandas as pd\n",
    "\n",
    "data = {'message': [\"The audience disliked the actor leading the play.\", \n",
    "                    \"He was not supposed to come.\", \n",
    "                    \"The price of the car is not insignificant.\"]}\n",
    "\n",
    "df = pd.DataFrame(data)\n",
    "processed_df = preprocess(df)\n",
    "\n",
    "processed_df[['message', 'tokens', 'lemmas']]"
   ]
  },
  {
   "cell_type": "code",
   "execution_count": 31,
   "id": "52421b0f",
   "metadata": {},
   "outputs": [],
   "source": [
    "df_train_tf = preprocess(df_train)\n",
    "df_submit_tf = preprocess(df_test)\n",
    "df_train_tf.to_pickle('df_train_processed.pkl')\n",
    "df_submit_tf.to_pickle('df_test_processed.pkl')"
   ]
  },
  {
   "cell_type": "markdown",
   "id": "c5996e68",
   "metadata": {},
   "source": [
    "### Cargar data una vez preprocesada"
   ]
  },
  {
   "cell_type": "code",
   "execution_count": 8,
   "id": "f06f3355",
   "metadata": {},
   "outputs": [],
   "source": [
    "df_train_tf = pd.read_pickle('df_train_processed.pkl')\n",
    "df_submit = pd.read_pickle('df_test_processed.pkl')"
   ]
  },
  {
   "cell_type": "code",
   "execution_count": 32,
   "id": "1499f06b",
   "metadata": {},
   "outputs": [],
   "source": [
    "from sklearn.model_selection import train_test_split\n",
    "df_train_tf, df_test_tf = train_test_split(df_train, test_size=0.2, random_state=2024)"
   ]
  },
  {
   "cell_type": "code",
   "execution_count": 33,
   "id": "b572c20b",
   "metadata": {},
   "outputs": [],
   "source": [
    "# use tf-idf to vectorize the text\n",
    "from sklearn.feature_extraction.text import TfidfVectorizer\n",
    "\n",
    "# tfidf = TfidfVectorizer(max_features=1000)\n",
    "tfidf = TfidfVectorizer()\n",
    "\n",
    "x_train = tfidf.fit_transform(df_train_tf['lemmas'].apply(' '.join))\n",
    "x_test = tfidf.transform(df_test_tf['lemmas'].apply(' '.join))\n",
    "x_submit = tfidf.transform(df_submit['lemmas'].apply(' '.join))"
   ]
  },
  {
   "cell_type": "code",
   "execution_count": 34,
   "id": "3b98c42d",
   "metadata": {},
   "outputs": [
    {
     "data": {
      "text/plain": [
       "array(['neg', 'pos'], dtype=object)"
      ]
     },
     "execution_count": 34,
     "metadata": {},
     "output_type": "execute_result"
    }
   ],
   "source": [
    "#enconde de y a valores numericos\n",
    "from sklearn.preprocessing import LabelEncoder\n",
    "\n",
    "label_encoder = LabelEncoder()\n",
    "y_train = label_encoder.fit_transform(df_train['label'])\n",
    "y_test = label_encoder.transform(df_test['label'])\n",
    "\n",
    "\n",
    "#verificar que significa cada valor numerico\n",
    "label_encoder.classes_"
   ]
  },
  {
   "cell_type": "code",
   "execution_count": 35,
   "id": "e0f37ea1",
   "metadata": {},
   "outputs": [],
   "source": [
    "from sklearn.feature_selection import SelectKBest, chi2\n",
    "\n",
    "k = 1000  # Número de características a seleccionar, ajusta este valor según sea necesario\n",
    "chi2_selector = SelectKBest(chi2, k=k)\n",
    "x_train_chi2 = chi2_selector.fit_transform(x_train, y_train)\n",
    "x_test_chi2 = chi2_selector.transform(x_test)\n",
    "x_submit_chi2 = chi2_selector.transform(x_submit)"
   ]
  },
  {
   "cell_type": "code",
   "execution_count": 36,
   "id": "4a04d223",
   "metadata": {},
   "outputs": [
    {
     "name": "stdout",
     "output_type": "stream",
     "text": [
      "Number of features: 1000\n"
     ]
    }
   ],
   "source": [
    "n_features = x_train_chi2.shape[1]\n",
    "print(f'Number of features: {n_features}')"
   ]
  },
  {
   "cell_type": "markdown",
   "id": "4986bb23",
   "metadata": {},
   "source": [
    "## Character quantization"
   ]
  },
  {
   "cell_type": "markdown",
   "id": "899a01af",
   "metadata": {},
   "source": [
    "### Analisis de datos"
   ]
  },
  {
   "cell_type": "code",
   "execution_count": 4,
   "id": "c52754fc",
   "metadata": {},
   "outputs": [
    {
     "name": "stdout",
     "output_type": "stream",
     "text": [
      "Promedio de longitud de mensajes: 1325.06964\n"
     ]
    },
    {
     "data": {
      "image/png": "[encoded data removed]",
      "text/plain": [
       "<Figure size 800x500 with 1 Axes>"
      ]
     },
     "metadata": {},
     "output_type": "display_data"
    }
   ],
   "source": [
    "#graficar distribución de las longitudes de los mensajes\n",
    "plt.figure(figsize=(8, 5))\n",
    "sns.histplot(df_train['message'].apply(len), bins=50)\n",
    "#set title\n",
    "plt.title('Distribución de Longitudes de Mensajes')\n",
    "\n",
    "prom_len = df_train['message'].apply(len).mean()\n",
    "print(f'Promedio de longitud de mensajes: {prom_len}')\n"
   ]
  },
  {
   "cell_type": "code",
   "execution_count": 5,
   "id": "c9725a79",
   "metadata": {},
   "outputs": [
    {
     "data": {
      "text/plain": [
       "Text(0, 0.5, 'Frecuencia')"
      ]
     },
     "execution_count": 5,
     "metadata": {},
     "output_type": "execute_result"
    },
    {
     "data": {
      "image/png": "[encoded data removed]",
      "text/plain": [
       "<Figure size 1400x700 with 1 Axes>"
      ]
     },
     "metadata": {},
     "output_type": "display_data"
    }
   ],
   "source": [
    "#graficar la frecuencia de cada caracter\n",
    "dict_chars = { c : 0 for c in 'abcdefghijklmnopqrstuvwxyz!?.,0123456789\\n'}\n",
    "for message in df_train['message']:\n",
    "    for c in message.lower():\n",
    "        if c in dict_chars:\n",
    "            dict_chars[c] += 1\n",
    "            \n",
    "            \n",
    "#Oderdar de mayor a menor frecuencia\n",
    "dict_chars = dict(sorted(dict_chars.items(), key=lambda item: item[1], reverse=True))\n",
    "\n",
    "plt.figure(figsize=(14, 7))\n",
    "sns.barplot(x=list(dict_chars.keys()), y=list(dict_chars.values()))\n",
    "plt.title('Frecuencia de Caracteres')\n",
    "plt.xlabel('Caracteres')\n",
    "plt.ylabel('Frecuencia')\n"
   ]
  },
  {
   "cell_type": "code",
   "execution_count": 6,
   "id": "8233d372",
   "metadata": {},
   "outputs": [
    {
     "name": "stdout",
     "output_type": "stream",
     "text": [
      "Caracteres más frecuentes usados: ['e', 't', 'a', 'i', 'o', 's', 'n', 'r', 'h', 'l', 'd', 'c', 'm', 'u', 'f', 'g', 'y', 'b', 'w', 'p', '.', 'v', ',', 'k', 'j', 'x', '!', 'z']\n"
     ]
    }
   ],
   "source": [
    "#seleccionar los primeros k caracteres mas frecuentes\n",
    "k = 28\n",
    "alfabet_used = list(dict_chars.keys())[0:k]\n",
    "print(f'Caracteres más frecuentes usados: {alfabet_used}')"
   ]
  },
  {
   "cell_type": "markdown",
   "id": "9a3d8ebd",
   "metadata": {},
   "source": [
    "### Extracción"
   ]
  },
  {
   "cell_type": "code",
   "execution_count": 7,
   "id": "70bfbd68",
   "metadata": {},
   "outputs": [],
   "source": [
    "import pandas as pd\n",
    "import numpy as np\n",
    "from scipy.sparse import lil_matrix\n",
    "\n",
    "\n",
    "# Funciones auxiliares\n",
    "def build_char_mat(quote, MAX_LEN, CHAR_DICT):\n",
    "    # Usamos lil_matrix para la matriz dispersa\n",
    "    char_mat = np.zeros((len(CHAR_DICT), MAX_LEN), dtype=np.float32)\n",
    "    quote = quote.lower()\n",
    "    for i, char in enumerate(quote):\n",
    "        if i >= MAX_LEN:\n",
    "            break\n",
    "        if char in CHAR_DICT:\n",
    "            char_mat[CHAR_DICT[char], i] = 1\n",
    "    return char_mat\n",
    "\n",
    "def generate_char_dict(string):\n",
    "    char_dict = {}\n",
    "    for char in string:\n",
    "        if char not in char_dict:\n",
    "            char_dict[char] = len(char_dict)\n",
    "    return char_dict\n",
    "\n",
    "def executeCQ(df, alfabet, MAX_LEN):\n",
    "    CHAR_DICT = generate_char_dict(alfabet)\n",
    "    results = []\n",
    "    for row in df:\n",
    "        # Remove special characters that are not in the alphabet\n",
    "        msg = ''.join([char for char in row if char in CHAR_DICT])\n",
    "        char_mat = torch.tensor(build_char_mat(msg, MAX_LEN, CHAR_DICT))\n",
    "        results.append(char_mat)\n",
    "    return torch.stack(results, dim=0)"
   ]
  },
  {
   "cell_type": "code",
   "execution_count": 8,
   "id": "b911060d",
   "metadata": {},
   "outputs": [],
   "source": [
    "from sklearn.model_selection import train_test_split\n",
    "df_train_cq, df_test_cq = train_test_split(df_train, test_size=0.15, random_state=2024)\n",
    "alfabet_dict = generate_char_dict(alfabet_used)"
   ]
  },
  {
   "cell_type": "code",
   "execution_count": 9,
   "id": "e4ebabc0",
   "metadata": {},
   "outputs": [
    {
     "name": "stdout",
     "output_type": "stream",
     "text": [
      "Number of features: 4500\n",
      "Number of characters: 28\n"
     ]
    }
   ],
   "source": [
    "x_train_cq = executeCQ(df_train_cq['message'], alfabet_used, 4500)\n",
    "x_test_cq = executeCQ(df_test_cq['message'], alfabet_used, 4500)\n",
    "n_features = x_train_cq.shape[2]\n",
    "n_chars = x_train_cq.shape[1]\n",
    "print(f'Number of features: {n_features}')\n",
    "print(f'Number of characters: {n_chars}')"
   ]
  },
  {
   "cell_type": "code",
   "execution_count": 10,
   "id": "0ffd2d99",
   "metadata": {},
   "outputs": [],
   "source": [
    "from sklearn.preprocessing import LabelEncoder\n",
    "\n",
    "label_encoder = LabelEncoder()\n",
    "y_train_cq = label_encoder.fit_transform(df_train_cq['label'])\n",
    "y_test_cq = label_encoder.transform(df_test_cq['label'])"
   ]
  },
  {
   "cell_type": "markdown",
   "id": "463de381",
   "metadata": {},
   "source": [
    "## WORD2VEC"
   ]
  },
  {
   "cell_type": "code",
   "execution_count": 176,
   "id": "855f3f90",
   "metadata": {},
   "outputs": [
    {
     "name": "stderr",
     "output_type": "stream",
     "text": [
      "[nltk_data] Downloading package stopwords to\n",
      "[nltk_data]     C:\\Users\\andre\\AppData\\Roaming\\nltk_data...\n",
      "[nltk_data]   Package stopwords is already up-to-date!\n"
     ]
    }
   ],
   "source": [
    "import torch\n",
    "import nltk\n",
    "from nltk.corpus import stopwords\n",
    "\n",
    "nltk.download('stopwords')\n",
    "stop_words = set(stopwords.words('english'))\n",
    "alphabet_used = set(\"abcdefghijklmnopqrstuvwxyz \")\n",
    "\n",
    "\n",
    "def preprocess_text(text):\n",
    "    text = text.lower()\n",
    "    text = ''.join([char for char in text if char in alphabet_used])\n",
    "    words = text.split()\n",
    "    words = [word for word in words if word not in stop_words]\n",
    "    return words\n",
    "\n",
    "def build_df_words(df):\n",
    "    #add new column\n",
    "    d = df.copy()\n",
    "    d['words'] = d['message'].apply(preprocess_text)\n",
    "    return d"
   ]
  },
  {
   "cell_type": "code",
   "execution_count": 177,
   "id": "6e2eb2c1",
   "metadata": {},
   "outputs": [],
   "source": [
    "import pandas as pd\n",
    "from sklearn.model_selection import train_test_split\n",
    "\n",
    "df_train_words, df_test_words = train_test_split(df_train, test_size=0.20, random_state=1993)\n",
    "\n",
    "df_train_words = build_df_words(df_train_words)\n",
    "df_test_words = build_df_words(df_test_words)"
   ]
  },
  {
   "cell_type": "code",
   "execution_count": 178,
   "id": "695c326a",
   "metadata": {},
   "outputs": [
    {
     "name": "stdout",
     "output_type": "stream",
     "text": [
      "Vocabulario: 104691 palabras\n"
     ]
    }
   ],
   "source": [
    "#realizar conteo de vocabulario\n",
    "vocab = set()\n",
    "for words in df_train_words['words']:\n",
    "    vocab.update(words)\n",
    "\n",
    "print(f'Vocabulario: {len(vocab)} palabras')"
   ]
  },
  {
   "cell_type": "markdown",
   "id": "24ac8f62",
   "metadata": {},
   "source": [
    "### Cargar modelo preentrenado"
   ]
  },
  {
   "cell_type": "code",
   "execution_count": 179,
   "id": "3b8bc6ba",
   "metadata": {},
   "outputs": [],
   "source": [
    "#load numpy\n",
    "import gensim.downloader as api\n",
    "\n",
    "#load word2vec\n",
    "word2vec = api.load('word2vec-google-news-300')"
   ]
  },
  {
   "cell_type": "markdown",
   "id": "3fb21bbf",
   "metadata": {},
   "source": [
    "### Extraer vectores"
   ]
  },
  {
   "cell_type": "code",
   "execution_count": 180,
   "id": "16a69fd1",
   "metadata": {},
   "outputs": [],
   "source": [
    "#construir matrix\n",
    "def build_embedding_matrix(df, word2vec_dict, max_words):\n",
    "    result = []\n",
    "    for words in df['words']:\n",
    "        emb = np.zeros((300))\n",
    "        count = 0\n",
    "        for word in words:\n",
    "            count += 1\n",
    "            if word in word2vec_dict:\n",
    "                emb += word2vec_dict[word]\n",
    "        result.append(emb / count)\n",
    "    return np.stack(result, axis=0)"
   ]
  },
  {
   "cell_type": "code",
   "execution_count": 181,
   "id": "3e3ebe22",
   "metadata": {},
   "outputs": [
    {
     "name": "stdout",
     "output_type": "stream",
     "text": [
      "Number of features: 300\n"
     ]
    }
   ],
   "source": [
    "x_train_wd = build_embedding_matrix(df_train_words, word2vec, 2**64)\n",
    "x_test_wd = build_embedding_matrix(df_test_words, word2vec, 2**64)\n",
    "\n",
    "n_features = x_train_wd.shape[1]\n",
    "print(f'Number of features: {n_features}')"
   ]
  },
  {
   "cell_type": "code",
   "execution_count": 142,
   "id": "dece3ef9",
   "metadata": {},
   "outputs": [],
   "source": [
    "from sklearn.preprocessing import LabelEncoder\n",
    "\n",
    "label_encoder = LabelEncoder()\n",
    "y_train_wd = label_encoder.fit_transform(df_train_words['label'])\n",
    "y_test_wd = label_encoder.transform(df_test_words['label'])"
   ]
  },
  {
   "cell_type": "markdown",
   "id": "a3c00e4e",
   "metadata": {},
   "source": [
    "----\n",
    "# 3. Experimentación"
   ]
  },
  {
   "cell_type": "code",
   "execution_count": 85,
   "id": "24565475",
   "metadata": {},
   "outputs": [
    {
     "name": "stdout",
     "output_type": "stream",
     "text": [
      "cuda:0\n"
     ]
    }
   ],
   "source": [
    "# Prepare Colab to work with CUDA.\n",
    "device = torch.device('cuda:0' if torch.cuda.is_available() else 'cpu')\n",
    "print(device)"
   ]
  },
  {
   "cell_type": "code",
   "execution_count": 86,
   "id": "3b2ed3b9",
   "metadata": {},
   "outputs": [],
   "source": [
    "#funciones de experimentación\n",
    "import pandas as pd\n",
    "from sklearn.metrics import confusion_matrix, classification_report\n",
    "\n",
    "def matriz_confusion(y_test, y_pred, Tipo):\n",
    " matrix = confusion_matrix(y_test, y_pred)\n",
    " f2 = pd.DataFrame(matrix.astype('float') / matrix.sum(axis=1)[:, np.newaxis], index= label_encoder.classes_  , columns=label_encoder.classes_)\n",
    " sns.heatmap(f2, annot=True, cbar=None, cmap=\"Greens\")\n",
    " plt.title(\"Confusion Matrix - \"  + Tipo ), plt.tight_layout()\n",
    " plt.xlabel(\"Predicted\")\n",
    " plt.ylabel(\"Real\")\n",
    " plt.show()\n",
    "\n",
    "# Write your code here\n",
    "def test(model, loader, tipo):\n",
    "  if tipo == \"MLP\" or tipo == \"CNN\":\n",
    "    model.eval()\n",
    "    #crear tensores de salida\n",
    "    y_test = torch.tensor([], dtype=torch.long)\n",
    "    y_pred = torch.tensor([], dtype=torch.long)\n",
    "    with torch.no_grad():\n",
    "        for x_test_v, y_test_v in loader:\n",
    "          x_test_v = x_test_v.to(device)\n",
    "          y_test_v = y_test_v.to(device)\n",
    "          y_pred_v = model(x_test_v)\n",
    "    \n",
    "          y_pred_v = torch.argmax(y_pred_v, dim=1).cpu()\n",
    "          y_test_v = y_test_v.cpu()\n",
    "          \n",
    "          #agregar a las listas\n",
    "          y_test = torch.cat((y_test, y_test_v), dim=0)\n",
    "          y_pred = torch.cat((y_pred, y_pred_v), dim=0)\n",
    "        torch.cuda.empty_cache()\n",
    "  else:\n",
    "    y_pred = model.predict(x_test)\n",
    "    \n",
    "  print(\"F\",y_test)\n",
    "  print(\"F\",y_pred)\n",
    "\n",
    "    \n",
    "  print(classification_report(y_test, y_pred))\n",
    "  matriz_confusion(y_test, y_pred,tipo)"
   ]
  },
  {
   "cell_type": "markdown",
   "id": "4c7adc93",
   "metadata": {},
   "source": [
    "## SVM TEST"
   ]
  },
  {
   "cell_type": "code",
   "execution_count": 13,
   "id": "d61b054c",
   "metadata": {},
   "outputs": [],
   "source": [
    "# fast test with training with svm\n",
    "from sklearn.svm import SVC\n",
    "from sklearn.metrics import classification_report\n",
    "clf = SVC()\n",
    "clf.fit(x_train, y_train)\n",
    "y_pred = clf.predict(x_test)\n",
    "print(classification_report(y_test, y_pred))"
   ]
  },
  {
   "cell_type": "markdown",
   "id": "e41cf880",
   "metadata": {},
   "source": [
    "## Neural Networks TEST"
   ]
  },
  {
   "cell_type": "markdown",
   "id": "4e87c697",
   "metadata": {},
   "source": [
    "### Funciones auxiliares"
   ]
  },
  {
   "cell_type": "code",
   "execution_count": 64,
   "id": "d32577fe",
   "metadata": {},
   "outputs": [],
   "source": [
    "def train(model, loss_f, optimizer, epochs, train_loader,name):\n",
    "    loss_lista = []\n",
    "    for epoch in range(epochs):\n",
    "        model.train()\n",
    "        epoch_loss = 0\n",
    "        for batch in train_loader:\n",
    "            x_batch, y_batch = batch\n",
    "            x_batch, y_batch = x_batch.to(device), y_batch.to(device)\n",
    "\n",
    "            # Forward pass\n",
    "            y_pred = model(x_batch)\n",
    "            loss = loss_f(y_pred, y_batch)\n",
    "            epoch_loss += loss.item()\n",
    "            \n",
    "            # Backward pass\n",
    "            optimizer.zero_grad()\n",
    "            loss.backward()\n",
    "            optimizer.step()\n",
    "\n",
    "        avg_epoch_loss = epoch_loss / len(train_loader)\n",
    "        loss_lista.append(avg_epoch_loss)\n",
    "        torch.save(model.state_dict(), f\"models/{name}.pth\")\n",
    "        if epoch % 1 == 0:\n",
    "            print('Epoch {}: train loss: {:.4f}'.format(epoch, avg_epoch_loss))\n",
    "    return loss_lista"
   ]
  },
  {
   "cell_type": "markdown",
   "id": "f7fdad46",
   "metadata": {},
   "source": [
    "### MLP TEST"
   ]
  },
  {
   "cell_type": "code",
   "execution_count": 143,
   "id": "79bd7ef2",
   "metadata": {},
   "outputs": [
    {
     "name": "stdout",
     "output_type": "stream",
     "text": [
      "cuda:0\n"
     ]
    }
   ],
   "source": [
    "# Prepare Colab to work with CUDA.\n",
    "device = torch.device('cuda:0' if torch.cuda.is_available() else 'cpu')\n",
    "print(device)"
   ]
  },
  {
   "cell_type": "markdown",
   "id": "fe299c6e",
   "metadata": {},
   "source": [
    "#### Arquitectura"
   ]
  },
  {
   "cell_type": "code",
   "execution_count": 144,
   "id": "ac3ef539",
   "metadata": {},
   "outputs": [],
   "source": [
    "#MLP\n",
    "import torch.nn as nn\n",
    "\n",
    "#0.84\n",
    "# INPUT_SIZE = 1000\n",
    "# OUTPUT_SIZE = 2\n",
    "# LAYERS = 2\n",
    "# LAYER_SIZE = 1000\n",
    "\n",
    "INPUT_SIZE = n_features\n",
    "OUTPUT_SIZE = 2\n",
    "LAYERS = 10\n",
    "LAYER_SIZE = 100\n",
    "DROPOUT_RATE = 0.5\n",
    "BATCH_SIZE = 64\n",
    "\n",
    "\n",
    "class MLP(nn.Module):\n",
    "    def __init__(self):\n",
    "        super(MLP, self).__init__()\n",
    "        self.layers = nn.ModuleList()\n",
    "\n",
    "        # Primera capa\n",
    "        self.layers.append(nn.Linear(INPUT_SIZE, LAYER_SIZE))\n",
    "        self.layers.append(nn.BatchNorm1d(LAYER_SIZE))\n",
    "        self.layers.append(nn.ReLU())\n",
    "        self.layers.append(nn.Dropout(DROPOUT_RATE))\n",
    "\n",
    "        # Capas intermedias\n",
    "        for _ in range(LAYERS):\n",
    "            self.layers.append(nn.Linear(LAYER_SIZE, LAYER_SIZE))\n",
    "            self.layers.append(nn.BatchNorm1d(LAYER_SIZE))\n",
    "            self.layers.append(nn.ReLU())\n",
    "            self.layers.append(nn.Dropout(DROPOUT_RATE))\n",
    "\n",
    "        # Última capa\n",
    "        self.layers.append(nn.Linear(LAYER_SIZE, OUTPUT_SIZE))\n",
    "\n",
    "    def forward(self, x):\n",
    "        for layer in self.layers:\n",
    "            x = layer(x)\n",
    "        return x"
   ]
  },
  {
   "cell_type": "code",
   "execution_count": 167,
   "id": "75ec412c",
   "metadata": {},
   "outputs": [],
   "source": [
    "from torch import nn\n",
    "INPUT_SIZE = n_features\n",
    "OUTPUT_SIZE = 2\n",
    "BATCH_SIZE = 32\n",
    "LAYER_SIZE = 400\n",
    "\n",
    "#0.86 accuracy\n",
    "class MLP(nn.Module):\n",
    "    def __init__(self):\n",
    "        super(MLP, self).__init__()\n",
    "        \n",
    "        # Primera capa\n",
    "        self.layer1 = nn.Sequential(\n",
    "            nn.Linear(INPUT_SIZE, LAYER_SIZE),\n",
    "            nn.BatchNorm1d(LAYER_SIZE),\n",
    "            nn.ReLU(),\n",
    "            nn.Dropout(0.5),\n",
    "        )\n",
    "        \n",
    "        self.layer2 = nn.Sequential(\n",
    "            nn.Linear(LAYER_SIZE, LAYER_SIZE),\n",
    "            nn.BatchNorm1d(LAYER_SIZE),\n",
    "            nn.ReLU(),\n",
    "            nn.Dropout(0.5),\n",
    "        )\n",
    "        \n",
    "        self.layer3 = nn.Sequential(\n",
    "            nn.Linear(LAYER_SIZE, LAYER_SIZE),\n",
    "            nn.BatchNorm1d(LAYER_SIZE),\n",
    "            nn.ReLU(),\n",
    "            nn.Dropout(0.5),\n",
    "        )\n",
    "        \n",
    "        self.layer4 = nn.Sequential(\n",
    "            nn.Linear(LAYER_SIZE, OUTPUT_SIZE)\n",
    "        )\n",
    "        \n",
    "    def forward(self, x):\n",
    "        x = self.layer1(x)\n",
    "        x = self.layer2(x)\n",
    "        x = self.layer3(x)\n",
    "        x = self.layer4(x)\n",
    "        return x"
   ]
  },
  {
   "cell_type": "code",
   "execution_count": 171,
   "id": "95265bbf",
   "metadata": {},
   "outputs": [],
   "source": [
    "from torch import nn\n",
    "INPUT_SIZE = n_features\n",
    "OUTPUT_SIZE = 2\n",
    "BATCH_SIZE = 16\n",
    "LAYER_SIZE = 385\n",
    "\n",
    "#\n",
    "class MLP(nn.Module):\n",
    "    def __init__(self):\n",
    "        super(MLP, self).__init__()\n",
    "        \n",
    "        # Primera capa\n",
    "        self.layer1 = nn.Sequential(\n",
    "            nn.Linear(INPUT_SIZE, LAYER_SIZE),\n",
    "            nn.BatchNorm1d(LAYER_SIZE),\n",
    "            nn.ReLU(),\n",
    "            nn.Dropout(0.5),\n",
    "        )\n",
    "        \n",
    "        self.layer2 = nn.Sequential(\n",
    "            nn.Linear(LAYER_SIZE, LAYER_SIZE),\n",
    "            nn.BatchNorm1d(LAYER_SIZE),\n",
    "            nn.ReLU(),\n",
    "            nn.Dropout(0.5),\n",
    "        )\n",
    "        \n",
    "        self.layer3 = nn.Sequential(\n",
    "            nn.Linear(LAYER_SIZE, LAYER_SIZE),\n",
    "            nn.BatchNorm1d(LAYER_SIZE),\n",
    "            nn.ReLU(),\n",
    "            nn.Dropout(0.5),\n",
    "        )\n",
    "        \n",
    "        self.layer4 = nn.Sequential(\n",
    "            nn.Linear(LAYER_SIZE, OUTPUT_SIZE)\n",
    "        )\n",
    "        \n",
    "    def forward(self, x):\n",
    "        x = self.layer1(x)\n",
    "        x = self.layer2(x)\n",
    "        x = self.layer3(x)\n",
    "        x = self.layer4(x)\n",
    "        return x"
   ]
  },
  {
   "cell_type": "markdown",
   "id": "a81ec226",
   "metadata": {},
   "source": [
    "#### Entrenamiento"
   ]
  },
  {
   "cell_type": "code",
   "execution_count": 172,
   "id": "4fddb748",
   "metadata": {},
   "outputs": [],
   "source": [
    "import torch\n",
    "# Modelos\n",
    "model = MLP().to(device)\n",
    "loss = torch.nn.CrossEntropyLoss() # Cross entropy\n",
    "# optimizer = torch.optim.Adam(model.parameters(), lr = 0.01, weight_decay=1e-5)\n",
    "optimizer = torch.optim.AdamW(model.parameters(), lr = 0.0075, weight_decay=1e-5)"
   ]
  },
  {
   "cell_type": "markdown",
   "id": "c46c2178",
   "metadata": {},
   "source": [
    "##### TEST 1 (TFIDF)"
   ]
  },
  {
   "cell_type": "code",
   "execution_count": null,
   "id": "99ed3783",
   "metadata": {},
   "outputs": [],
   "source": [
    "# x_train_dv = torch.tensor(x_train.toarray(), dtype=torch.float32)\n",
    "x_train_dv = torch.tensor(x_train_chi2.toarray(), dtype=torch.float32)\n",
    "y_train_dv = torch.tensor(y_train, dtype=torch.long)\n",
    "train_dataset = TensorDataset(x_train_dv, y_train_dv)\n",
    "train_loader = DataLoader(train_dataset, batch_size=BATCH_SIZE, shuffle=True)\n",
    "\n",
    "print(\"MLP TRAIN - TFIDF\")\n",
    "loss_list = train(model, loss, optimizer, 10, train_loader,\"MLP_TDIF\")"
   ]
  },
  {
   "cell_type": "markdown",
   "id": "69459856",
   "metadata": {},
   "source": [
    "##### TEST 2 (WORD2VEC)"
   ]
  },
  {
   "cell_type": "code",
   "execution_count": 173,
   "id": "e74ec05e",
   "metadata": {},
   "outputs": [
    {
     "name": "stdout",
     "output_type": "stream",
     "text": [
      "MLP TRAIN - WORD2VEC\n",
      "Epoch 0: train loss: 0.4589\n",
      "Epoch 1: train loss: 0.4072\n",
      "Epoch 2: train loss: 0.3928\n",
      "Epoch 3: train loss: 0.3901\n",
      "Epoch 4: train loss: 0.3881\n",
      "Epoch 5: train loss: 0.3778\n",
      "Epoch 6: train loss: 0.3748\n",
      "Epoch 7: train loss: 0.3712\n",
      "Epoch 8: train loss: 0.3665\n",
      "Epoch 9: train loss: 0.3606\n",
      "Epoch 10: train loss: 0.3561\n",
      "Epoch 11: train loss: 0.3510\n",
      "Epoch 12: train loss: 0.3476\n",
      "Epoch 13: train loss: 0.3426\n",
      "Epoch 14: train loss: 0.3368\n",
      "Epoch 15: train loss: 0.3303\n",
      "Epoch 16: train loss: 0.3332\n",
      "Epoch 17: train loss: 0.3229\n",
      "Epoch 18: train loss: 0.3185\n",
      "Epoch 19: train loss: 0.3193\n",
      "Epoch 20: train loss: 0.3096\n",
      "Epoch 21: train loss: 0.3142\n",
      "Epoch 22: train loss: 0.3088\n",
      "Epoch 23: train loss: 0.3047\n",
      "Epoch 24: train loss: 0.3039\n",
      "Epoch 25: train loss: 0.2955\n",
      "Epoch 26: train loss: 0.2952\n",
      "Epoch 27: train loss: 0.2937\n",
      "Epoch 28: train loss: 0.2961\n",
      "Epoch 29: train loss: 0.2885\n"
     ]
    }
   ],
   "source": [
    "x_train_dv = torch.tensor(x_train_wd, dtype=torch.float32)\n",
    "y_train_dv = torch.tensor(y_train_wd, dtype=torch.long)\n",
    "\n",
    "train_dataset = TensorDataset(x_train_dv, y_train_dv)\n",
    "train_loader = DataLoader(train_dataset, batch_size=BATCH_SIZE, shuffle=True)\n",
    "\n",
    "print(\"MLP TRAIN - WORD2VEC\")\n",
    "loss_list = train(model, loss, optimizer, 30, train_loader,\"MLP_W2V_B\")"
   ]
  },
  {
   "cell_type": "markdown",
   "id": "6e71a8c3",
   "metadata": {},
   "source": [
    "#### Resultados"
   ]
  },
  {
   "cell_type": "code",
   "execution_count": null,
   "id": "74b26804",
   "metadata": {},
   "outputs": [],
   "source": [
    "# x_test_dv = torch.tensor(x_test.toarray(), dtype=torch.float32)\n",
    "#Test \n",
    "x_test_dv = torch.tensor(x_test_chi2.toarray(), dtype=torch.float32)\n",
    "y_test_dv = torch.tensor(y_test, dtype=torch.long)\n",
    "\n",
    "test_dataset = TensorDataset(x_test_dv, y_test_dv)\n",
    "test_loader = DataLoader(test_dataset, batch_size=BATCH_SIZE, shuffle=True)\n",
    "\n",
    "test(model, test_loader, \"MLP\")"
   ]
  },
  {
   "cell_type": "code",
   "execution_count": 175,
   "id": "1cfd95de",
   "metadata": {},
   "outputs": [
    {
     "name": "stdout",
     "output_type": "stream",
     "text": [
      "F tensor([1, 1, 1,  ..., 1, 1, 0])\n",
      "F tensor([1, 1, 1,  ..., 1, 1, 0])\n",
      "              precision    recall  f1-score   support\n",
      "\n",
      "           0       0.89      0.80      0.84      1841\n",
      "           1       0.82      0.91      0.86      1909\n",
      "\n",
      "    accuracy                           0.85      3750\n",
      "   macro avg       0.86      0.85      0.85      3750\n",
      "weighted avg       0.86      0.85      0.85      3750\n",
      "\n"
     ]
    },
    {
     "data": {
      "image/png": "[encoded data removed]",
      "text/plain": [
       "<Figure size 640x480 with 1 Axes>"
      ]
     },
     "metadata": {},
     "output_type": "display_data"
    }
   ],
   "source": [
    "x_test_dv = torch.tensor(x_test_wd, dtype=torch.float32)\n",
    "y_test_dv = torch.tensor(y_test_wd, dtype=torch.long)\n",
    "\n",
    "test_dataset = TensorDataset(x_test_dv, y_test_dv)\n",
    "test_loader = DataLoader(test_dataset, batch_size=BATCH_SIZE, shuffle=True)\n",
    "\n",
    "test(model, test_loader, \"MLP\")"
   ]
  },
  {
   "cell_type": "code",
   "execution_count": 213,
   "id": "367c3582",
   "metadata": {},
   "outputs": [],
   "source": [
    "#Exportar datos a csv\n",
    "x_submit_t = torch.tensor(x_submit_chi2.toarray(), dtype=torch.float32)\n",
    "submit_dataset = TensorDataset(x_submit_t)\n",
    "submit_loader = DataLoader(submit_dataset, batch_size=BATCH_SIZE, shuffle=False)\n",
    "\n",
    "all_preds = []\n",
    "model.eval()\n",
    "with torch.no_grad():\n",
    "    for batch in submit_loader:\n",
    "        batch = batch[0].to(device)\n",
    "        pred = model(batch)\n",
    "        pred = torch.argmax(pred, dim=1).cpu()\n",
    "        all_preds.extend(pred)\n",
    "\n",
    "label_map = {0: 'neg', 1: 'pos'}\n",
    "labels = [label_map[label.item()] for label in all_preds]\n",
    "\n",
    "ids = list(range(len(labels)))\n",
    "submission_df = pd.DataFrame({'ids': ids, 'label': labels})\n",
    "\n",
    "submission_df.to_csv('submit.csv', index=False)"
   ]
  },
  {
   "cell_type": "markdown",
   "id": "413e5353",
   "metadata": {},
   "source": [
    "### CNN TEST"
   ]
  },
  {
   "cell_type": "code",
   "execution_count": 43,
   "id": "98860eb7",
   "metadata": {},
   "outputs": [
    {
     "name": "stdout",
     "output_type": "stream",
     "text": [
      "cuda:0\n"
     ]
    }
   ],
   "source": [
    "# Prepare Colab to work with CUDA.\n",
    "device = torch.device('cuda:0' if torch.cuda.is_available() else 'cpu')\n",
    "print(device)"
   ]
  },
  {
   "cell_type": "markdown",
   "id": "9de4896d",
   "metadata": {},
   "source": [
    "#### Arquitectura"
   ]
  },
  {
   "cell_type": "code",
   "execution_count": 22,
   "id": "986f2ff9",
   "metadata": {},
   "outputs": [],
   "source": [
    "#CNN\n",
    "import torch.nn as nn\n",
    "\n",
    "QUOTE_SIZE = n_features\n",
    "#ALFABET_SIZE = n_chars\n",
    "OUTPUT_SIZE = 2\n",
    "DROPOUT_RATE = 0.4\n",
    "BATCH_SIZE = 32\n",
    "\n",
    "class CNN(nn.Module):\n",
    "    def __init__(self):\n",
    "        super(CNN, self).__init__()\n",
    "        self.layerConv = nn.Sequential(\n",
    "            nn.Conv1d(in_channels=1, out_channels=64, kernel_size=7, stride=1),\n",
    "            nn.ReLU(),\n",
    "            nn.MaxPool1d(kernel_size=3),\n",
    "            \n",
    "            nn.Conv1d(in_channels=64, out_channels=64, kernel_size=7, stride=1),\n",
    "            nn.ReLU(),\n",
    "            nn.MaxPool1d(kernel_size=3),\n",
    "            )\n",
    "    \n",
    "        #obtain the size of the output of the convolutional layers\n",
    "        output_size = self.layerConv(torch.rand(1, 1, QUOTE_SIZE)).size()\n",
    "        layerFC_input = output_size[1] * output_size[2]\n",
    "        \n",
    "        self.layerFC = nn.Sequential(\n",
    "            nn.Linear(layerFC_input, 1024),\n",
    "            nn.BatchNorm1d(1024),\n",
    "            nn.ReLU(),\n",
    "            nn.Dropout(DROPOUT_RATE),\n",
    "            nn.Linear(1024, OUTPUT_SIZE))\n",
    "        \n",
    "    def forward(self, x):\n",
    "        #print(x.size())\n",
    "        out = self.layerConv(x)\n",
    "        #print(out.size())\n",
    "        out = out.reshape(out.size(0), -1)\n",
    "        #print(out.size())\n",
    "        out = self.layerFC(out)\n",
    "        return out"
   ]
  },
  {
   "cell_type": "markdown",
   "id": "e1fd8c42",
   "metadata": {},
   "source": [
    "#### Entrenamiento"
   ]
  },
  {
   "cell_type": "code",
   "execution_count": 23,
   "id": "8e12c1ec",
   "metadata": {},
   "outputs": [],
   "source": [
    "# Modelos\n",
    "modelCNN = CNN().to(device)\n",
    "loss = torch.nn.CrossEntropyLoss() # Cross entropy\n",
    "# optimizer = torch.optim.Adam(model.parameters(), lr = 0.01, weight_decay=1e-5)\n",
    "optimizer = torch.optim.AdamW(modelCNN.parameters(), lr = 0.01)"
   ]
  },
  {
   "cell_type": "code",
   "execution_count": 20,
   "id": "137c6622",
   "metadata": {},
   "outputs": [],
   "source": [
    "#cargar si existe\n",
    "modelCNN = CNN().to(device)\n",
    "modelCNN.load_state_dict(torch.load('modelCNN.pth'))\n",
    "loss = torch.nn.CrossEntropyLoss() # Cross entropy\n",
    "# optimizer = torch.optim.Adam(model.parameters(), lr = 0.01, weight_decay=1e-5)\n",
    "optimizer = torch.optim.AdamW(modelCNN.parameters(), lr = 0.005,weight_decay=1e-5)"
   ]
  },
  {
   "cell_type": "code",
   "execution_count": 25,
   "id": "8a83e94e",
   "metadata": {},
   "outputs": [
    {
     "name": "stdout",
     "output_type": "stream",
     "text": [
      "CNN TRAIN\n",
      "Epoch 0: train loss: 0.4986\n",
      "Epoch 1: train loss: 0.3146\n",
      "Epoch 2: train loss: 0.2384\n",
      "Epoch 3: train loss: 0.1811\n",
      "Epoch 4: train loss: 0.1357\n",
      "Epoch 5: train loss: 0.1175\n",
      "Epoch 6: train loss: 0.1036\n",
      "Epoch 7: train loss: 0.0927\n",
      "Epoch 8: train loss: 0.0983\n",
      "Epoch 9: train loss: 0.0846\n"
     ]
    }
   ],
   "source": [
    "x_train_dv = torch.tensor(x_train_chi2.todense(), dtype=torch.float32)\n",
    "x_train_dv = x_train_dv.reshape(-1, 1, QUOTE_SIZE)\n",
    "\n",
    "y_train_dv = torch.tensor(y_train, dtype=torch.long)\n",
    "train_dataset = TensorDataset(x_train_dv, y_train_dv)\n",
    "train_loader = DataLoader(train_dataset, batch_size=BATCH_SIZE, shuffle=True)\n",
    "\n",
    "print(\"CNN TRAIN\")\n",
    "loss_list = train(modelCNN, loss, optimizer, 10, train_loader,\"modelCNN\")"
   ]
  },
  {
   "cell_type": "code",
   "execution_count": 48,
   "id": "68d4e3d7",
   "metadata": {},
   "outputs": [
    {
     "name": "stdout",
     "output_type": "stream",
     "text": [
      "torch.Size([21250, 28, 4500])\n",
      "CNN TRAIN\n",
      "Epoch 0: train loss: 0.9140\n",
      "Epoch 1: train loss: 0.6663\n",
      "Epoch 2: train loss: 0.4657\n",
      "Epoch 3: train loss: 0.3885\n",
      "Epoch 4: train loss: 0.3401\n",
      "Epoch 5: train loss: 0.2937\n",
      "Epoch 6: train loss: 0.2477\n",
      "Epoch 7: train loss: 0.2107\n",
      "Epoch 8: train loss: 0.1875\n",
      "Epoch 9: train loss: 0.1599\n"
     ]
    }
   ],
   "source": [
    "# x_test_dv = torch.tensor(x_test.toarray(), dtype=torch.float32)\n",
    "x_train_dv = x_train_cq\n",
    "#x_train_dv = x_train_dv.reshape(-1, 1, x_train_cq[0].shape[0], x_train_cq[0].shape[1])\n",
    "\n",
    "print(x_train_dv.shape)\n",
    "y_train_dv = torch.tensor(y_train_cq, dtype=torch.long)\n",
    "\n",
    "train_dataset = TensorDataset(x_train_dv, y_train_dv)\n",
    "train_loader = DataLoader(train_dataset, batch_size=BATCH_SIZE, shuffle=True)\n",
    "\n",
    "print(\"CNN TRAIN\")\n",
    "loss_list = train(modelCNN, loss, optimizer, 10, train_loader,\"modelCNN_RT\")"
   ]
  },
  {
   "cell_type": "code",
   "execution_count": 97,
   "id": "93a19494",
   "metadata": {},
   "outputs": [],
   "source": [
    "del x_train_dv"
   ]
  },
  {
   "cell_type": "markdown",
   "id": "55b91b01",
   "metadata": {},
   "source": [
    "#### Resultados"
   ]
  },
  {
   "cell_type": "code",
   "execution_count": 28,
   "id": "f9b1cb8c",
   "metadata": {},
   "outputs": [
    {
     "name": "stdout",
     "output_type": "stream",
     "text": [
      "torch.Size([20000, 1, 7000])\n",
      "F tensor([1, 0, 0,  ..., 0, 0, 1])\n",
      "F tensor([1, 1, 1,  ..., 1, 1, 1])\n",
      "              precision    recall  f1-score   support\n",
      "\n",
      "           0       1.00      0.00      0.00     10037\n",
      "           1       0.50      1.00      0.67      9963\n",
      "\n",
      "    accuracy                           0.50     20000\n",
      "   macro avg       0.75      0.50      0.33     20000\n",
      "weighted avg       0.75      0.50      0.33     20000\n",
      "\n"
     ]
    },
    {
     "data": {
      "image/png": "[encoded data removed]",
      "text/plain": [
       "<Figure size 640x480 with 1 Axes>"
      ]
     },
     "metadata": {},
     "output_type": "display_data"
    }
   ],
   "source": [
    "# x_test_dv = torch.tensor(x_test.toarray(), dtype=torch.float32)\n",
    "x_test_dv = torch.tensor(x_train_chi2.todense(), dtype=torch.float32)\n",
    "x_test_dv = x_test_dv.reshape(-1, 1, n_features)\n",
    "print(x_test_dv.shape)\n",
    "\n",
    "y_test_dv = torch.tensor(y_train, dtype=torch.long)\n",
    "test_dataset = TensorDataset(x_test_dv, y_test_dv)\n",
    "test_loader = DataLoader(test_dataset, batch_size=BATCH_SIZE, shuffle=True)\n",
    "\n",
    "test(modelCNN, test_loader, \"CNN\")"
   ]
  },
  {
   "cell_type": "code",
   "execution_count": 26,
   "id": "51b8af88",
   "metadata": {},
   "outputs": [],
   "source": [
    "#Exportar datos a csv\n",
    "x_submit_t = torch.tensor(x_submit_chi2.toarray(), dtype=torch.float32)\n",
    "x_submit_t = x_submit_t.reshape(-1, 1, n_features)\n",
    "submit_dataset = TensorDataset(x_submit_t)\n",
    "submit_loader = DataLoader(submit_dataset, batch_size=BATCH_SIZE, shuffle=False)\n",
    "\n",
    "all_preds = []\n",
    "modelCNN.eval()\n",
    "with torch.no_grad():\n",
    "    for batch in submit_loader:\n",
    "        batch = batch[0].to(device)\n",
    "        pred = modelCNN(batch)\n",
    "        pred = torch.argmax(pred, dim=1).cpu()\n",
    "        all_preds.extend(pred)\n",
    "\n",
    "label_map = {0: 'neg', 1: 'pos'}\n",
    "labels = [label_map[label.item()] for label in all_preds]\n",
    "\n",
    "ids = list(range(len(labels)))\n",
    "submission_df = pd.DataFrame({'ids': ids, 'label': labels})\n",
    "\n",
    "submission_df.to_csv('submit.csv', index=False)"
   ]
  },
  {
   "cell_type": "markdown",
   "id": "193a4ba5",
   "metadata": {},
   "source": [
    "----\n",
    "# MISC\n",
    "\n"
   ]
  },
  {
   "cell_type": "code",
   "execution_count": 18,
   "id": "7bdb6e46",
   "metadata": {},
   "outputs": [],
   "source": [
    "#clear memory\n",
    "import gc\n",
    "import torch\n",
    "\n",
    "gc.collect()            # Llama al recolector de basura para liberar memoria\n",
    "torch.cuda.empty_cache()  # Limpia la memoria de GPU"
   ]
  },
  {
   "cell_type": "code",
   "execution_count": 19,
   "id": "6b50a666",
   "metadata": {},
   "outputs": [],
   "source": [
    "#delete all variables\n",
    "for name in dir():\n",
    "    if not name.startswith('_'):\n",
    "        del globals()[name]\n",
    "        \n",
    "del name"
   ]
  }
 ],
 "metadata": {
  "kernelspec": {
   "display_name": "Python 3 (ipykernel)",
   "language": "python",
   "name": "python3"
  },
  "language_info": {
   "codemirror_mode": {
    "name": "ipython",
    "version": 3
   },
   "file_extension": ".py",
   "mimetype": "text/x-python",
   "name": "python",
   "nbconvert_exporter": "python",
   "pygments_lexer": "ipython3",
   "version": "3.11.3"
  }
 },
 "nbformat": 4,
 "nbformat_minor": 5
}
