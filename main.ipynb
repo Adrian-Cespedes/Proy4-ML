{
 "cells": [
  {
   "cell_type": "code",
   "execution_count": 1,
   "id": "897c14cd",
   "metadata": {},
   "outputs": [
    {
     "name": "stdout",
     "output_type": "stream",
     "text": [
      "Requirement already satisfied: numpy in f:\\tareas\\comp\\proyecto\\proy4-ml\\.venv\\lib\\site-packages (1.24.1)\n",
      "Note: you may need to restart the kernel to use updated packages.\n",
      "Requirement already satisfied: matplotlib in f:\\tareas\\comp\\proyecto\\proy4-ml\\.venv\\lib\\site-packages (3.9.0)\n",
      "Requirement already satisfied: contourpy>=1.0.1 in f:\\tareas\\comp\\proyecto\\proy4-ml\\.venv\\lib\\site-packages (from matplotlib) (1.2.1)\n",
      "Requirement already satisfied: cycler>=0.10 in f:\\tareas\\comp\\proyecto\\proy4-ml\\.venv\\lib\\site-packages (from matplotlib) (0.12.1)\n",
      "Requirement already satisfied: fonttools>=4.22.0 in f:\\tareas\\comp\\proyecto\\proy4-ml\\.venv\\lib\\site-packages (from matplotlib) (4.53.0)\n",
      "Requirement already satisfied: kiwisolver>=1.3.1 in f:\\tareas\\comp\\proyecto\\proy4-ml\\.venv\\lib\\site-packages (from matplotlib) (1.4.5)\n",
      "Requirement already satisfied: numpy>=1.23 in f:\\tareas\\comp\\proyecto\\proy4-ml\\.venv\\lib\\site-packages (from matplotlib) (1.24.1)\n",
      "Requirement already satisfied: packaging>=20.0 in f:\\tareas\\comp\\proyecto\\proy4-ml\\.venv\\lib\\site-packages (from matplotlib) (24.1)\n",
      "Requirement already satisfied: pillow>=8 in f:\\tareas\\comp\\proyecto\\proy4-ml\\.venv\\lib\\site-packages (from matplotlib) (10.3.0)\n",
      "Requirement already satisfied: pyparsing>=2.3.1 in f:\\tareas\\comp\\proyecto\\proy4-ml\\.venv\\lib\\site-packages (from matplotlib) (3.1.2)\n",
      "Requirement already satisfied: python-dateutil>=2.7 in f:\\tareas\\comp\\proyecto\\proy4-ml\\.venv\\lib\\site-packages (from matplotlib) (2.9.0.post0)\n",
      "Requirement already satisfied: six>=1.5 in f:\\tareas\\comp\\proyecto\\proy4-ml\\.venv\\lib\\site-packages (from python-dateutil>=2.7->matplotlib) (1.16.0)\n",
      "Note: you may need to restart the kernel to use updated packages.\n",
      "Requirement already satisfied: scipy in f:\\tareas\\comp\\proyecto\\proy4-ml\\.venv\\lib\\site-packages (1.14.0)\n",
      "Requirement already satisfied: numpy<2.3,>=1.23.5 in f:\\tareas\\comp\\proyecto\\proy4-ml\\.venv\\lib\\site-packages (from scipy) (1.24.1)\n",
      "Note: you may need to restart the kernel to use updated packages.\n",
      "Requirement already satisfied: pandas in f:\\tareas\\comp\\proyecto\\proy4-ml\\.venv\\lib\\site-packages (2.2.2)\n",
      "Requirement already satisfied: numpy>=1.23.2 in f:\\tareas\\comp\\proyecto\\proy4-ml\\.venv\\lib\\site-packages (from pandas) (1.24.1)\n",
      "Requirement already satisfied: python-dateutil>=2.8.2 in f:\\tareas\\comp\\proyecto\\proy4-ml\\.venv\\lib\\site-packages (from pandas) (2.9.0.post0)\n",
      "Requirement already satisfied: pytz>=2020.1 in f:\\tareas\\comp\\proyecto\\proy4-ml\\.venv\\lib\\site-packages (from pandas) (2024.1)\n",
      "Requirement already satisfied: tzdata>=2022.7 in f:\\tareas\\comp\\proyecto\\proy4-ml\\.venv\\lib\\site-packages (from pandas) (2024.1)\n",
      "Requirement already satisfied: six>=1.5 in f:\\tareas\\comp\\proyecto\\proy4-ml\\.venv\\lib\\site-packages (from python-dateutil>=2.8.2->pandas) (1.16.0)\n",
      "Note: you may need to restart the kernel to use updated packages.\n",
      "Requirement already satisfied: scikit-learn in f:\\tareas\\comp\\proyecto\\proy4-ml\\.venv\\lib\\site-packages (1.5.0)\n",
      "Requirement already satisfied: numpy>=1.19.5 in f:\\tareas\\comp\\proyecto\\proy4-ml\\.venv\\lib\\site-packages (from scikit-learn) (1.24.1)\n",
      "Requirement already satisfied: scipy>=1.6.0 in f:\\tareas\\comp\\proyecto\\proy4-ml\\.venv\\lib\\site-packages (from scikit-learn) (1.14.0)\n",
      "Requirement already satisfied: joblib>=1.2.0 in f:\\tareas\\comp\\proyecto\\proy4-ml\\.venv\\lib\\site-packages (from scikit-learn) (1.4.2)\n",
      "Requirement already satisfied: threadpoolctl>=3.1.0 in f:\\tareas\\comp\\proyecto\\proy4-ml\\.venv\\lib\\site-packages (from scikit-learn) (3.5.0)\n",
      "Note: you may need to restart the kernel to use updated packages.\n",
      "Requirement already satisfied: seaborn in f:\\tareas\\comp\\proyecto\\proy4-ml\\.venv\\lib\\site-packages (0.13.2)Note: you may need to restart the kernel to use updated packages.\n",
      "\n",
      "Requirement already satisfied: numpy!=1.24.0,>=1.20 in f:\\tareas\\comp\\proyecto\\proy4-ml\\.venv\\lib\\site-packages (from seaborn) (1.24.1)\n",
      "Requirement already satisfied: pandas>=1.2 in f:\\tareas\\comp\\proyecto\\proy4-ml\\.venv\\lib\\site-packages (from seaborn) (2.2.2)\n",
      "Requirement already satisfied: matplotlib!=3.6.1,>=3.4 in f:\\tareas\\comp\\proyecto\\proy4-ml\\.venv\\lib\\site-packages (from seaborn) (3.9.0)\n",
      "Requirement already satisfied: contourpy>=1.0.1 in f:\\tareas\\comp\\proyecto\\proy4-ml\\.venv\\lib\\site-packages (from matplotlib!=3.6.1,>=3.4->seaborn) (1.2.1)\n",
      "Requirement already satisfied: cycler>=0.10 in f:\\tareas\\comp\\proyecto\\proy4-ml\\.venv\\lib\\site-packages (from matplotlib!=3.6.1,>=3.4->seaborn) (0.12.1)\n",
      "Requirement already satisfied: fonttools>=4.22.0 in f:\\tareas\\comp\\proyecto\\proy4-ml\\.venv\\lib\\site-packages (from matplotlib!=3.6.1,>=3.4->seaborn) (4.53.0)\n",
      "Requirement already satisfied: kiwisolver>=1.3.1 in f:\\tareas\\comp\\proyecto\\proy4-ml\\.venv\\lib\\site-packages (from matplotlib!=3.6.1,>=3.4->seaborn) (1.4.5)\n",
      "Requirement already satisfied: packaging>=20.0 in f:\\tareas\\comp\\proyecto\\proy4-ml\\.venv\\lib\\site-packages (from matplotlib!=3.6.1,>=3.4->seaborn) (24.1)\n",
      "Requirement already satisfied: pillow>=8 in f:\\tareas\\comp\\proyecto\\proy4-ml\\.venv\\lib\\site-packages (from matplotlib!=3.6.1,>=3.4->seaborn) (10.3.0)\n",
      "Requirement already satisfied: pyparsing>=2.3.1 in f:\\tareas\\comp\\proyecto\\proy4-ml\\.venv\\lib\\site-packages (from matplotlib!=3.6.1,>=3.4->seaborn) (3.1.2)\n",
      "Requirement already satisfied: python-dateutil>=2.7 in f:\\tareas\\comp\\proyecto\\proy4-ml\\.venv\\lib\\site-packages (from matplotlib!=3.6.1,>=3.4->seaborn) (2.9.0.post0)\n",
      "Requirement already satisfied: pytz>=2020.1 in f:\\tareas\\comp\\proyecto\\proy4-ml\\.venv\\lib\\site-packages (from pandas>=1.2->seaborn) (2024.1)\n",
      "Requirement already satisfied: tzdata>=2022.7 in f:\\tareas\\comp\\proyecto\\proy4-ml\\.venv\\lib\\site-packages (from pandas>=1.2->seaborn) (2024.1)\n",
      "Requirement already satisfied: six>=1.5 in f:\\tareas\\comp\\proyecto\\proy4-ml\\.venv\\lib\\site-packages (from python-dateutil>=2.7->matplotlib!=3.6.1,>=3.4->seaborn) (1.16.0)\n",
      "Requirement already satisfied: nltk in f:\\tareas\\comp\\proyecto\\proy4-ml\\.venv\\lib\\site-packages (3.8.1)\n",
      "Requirement already satisfied: click in f:\\tareas\\comp\\proyecto\\proy4-ml\\.venv\\lib\\site-packages (from nltk) (8.1.7)\n",
      "Requirement already satisfied: joblib in f:\\tareas\\comp\\proyecto\\proy4-ml\\.venv\\lib\\site-packages (from nltk) (1.4.2)\n",
      "Requirement already satisfied: regex>=2021.8.3 in f:\\tareas\\comp\\proyecto\\proy4-ml\\.venv\\lib\\site-packages (from nltk) (2024.5.15)\n",
      "Requirement already satisfied: tqdm in f:\\tareas\\comp\\proyecto\\proy4-ml\\.venv\\lib\\site-packages (from nltk) (4.66.4)\n",
      "Requirement already satisfied: colorama in f:\\tareas\\comp\\proyecto\\proy4-ml\\.venv\\lib\\site-packages (from click->nltk) (0.4.6)\n",
      "Note: you may need to restart the kernel to use updated packages.\n"
     ]
    }
   ],
   "source": [
    "%pip install numpy\n",
    "%pip install matplotlib\n",
    "%pip install scipy\n",
    "%pip install pandas\n",
    "%pip install scikit-learn\n",
    "%pip install seaborn\n",
    "%pip install nltk"
   ]
  },
  {
   "cell_type": "code",
   "execution_count": 2,
   "id": "1858c3be",
   "metadata": {},
   "outputs": [
    {
     "name": "stdout",
     "output_type": "stream",
     "text": [
      "Looking in indexes: https://download.pytorch.org/whl/cu118\n",
      "Requirement already satisfied: torch in f:\\tareas\\comp\\proyecto\\proy4-ml\\.venv\\lib\\site-packages (2.3.1+cu118)\n",
      "Requirement already satisfied: torchvision in f:\\tareas\\comp\\proyecto\\proy4-ml\\.venv\\lib\\site-packages (0.18.1+cu118)\n",
      "Requirement already satisfied: torchaudio in f:\\tareas\\comp\\proyecto\\proy4-ml\\.venv\\lib\\site-packages (2.3.1+cu118)\n",
      "Requirement already satisfied: filelock in f:\\tareas\\comp\\proyecto\\proy4-ml\\.venv\\lib\\site-packages (from torch) (3.13.1)\n",
      "Requirement already satisfied: typing-extensions>=4.8.0 in f:\\tareas\\comp\\proyecto\\proy4-ml\\.venv\\lib\\site-packages (from torch) (4.12.2)\n",
      "Requirement already satisfied: sympy in f:\\tareas\\comp\\proyecto\\proy4-ml\\.venv\\lib\\site-packages (from torch) (1.12)\n",
      "Requirement already satisfied: networkx in f:\\tareas\\comp\\proyecto\\proy4-ml\\.venv\\lib\\site-packages (from torch) (3.2.1)\n",
      "Requirement already satisfied: jinja2 in f:\\tareas\\comp\\proyecto\\proy4-ml\\.venv\\lib\\site-packages (from torch) (3.1.3)\n",
      "Requirement already satisfied: fsspec in f:\\tareas\\comp\\proyecto\\proy4-ml\\.venv\\lib\\site-packages (from torch) (2024.2.0)\n",
      "Requirement already satisfied: mkl<=2021.4.0,>=2021.1.1 in f:\\tareas\\comp\\proyecto\\proy4-ml\\.venv\\lib\\site-packages (from torch) (2021.4.0)\n",
      "Requirement already satisfied: numpy in f:\\tareas\\comp\\proyecto\\proy4-ml\\.venv\\lib\\site-packages (from torchvision) (1.24.1)\n",
      "Requirement already satisfied: pillow!=8.3.*,>=5.3.0 in f:\\tareas\\comp\\proyecto\\proy4-ml\\.venv\\lib\\site-packages (from torchvision) (10.3.0)\n",
      "Requirement already satisfied: intel-openmp==2021.* in f:\\tareas\\comp\\proyecto\\proy4-ml\\.venv\\lib\\site-packages (from mkl<=2021.4.0,>=2021.1.1->torch) (2021.4.0)\n",
      "Requirement already satisfied: tbb==2021.* in f:\\tareas\\comp\\proyecto\\proy4-ml\\.venv\\lib\\site-packages (from mkl<=2021.4.0,>=2021.1.1->torch) (2021.11.0)\n",
      "Requirement already satisfied: MarkupSafe>=2.0 in f:\\tareas\\comp\\proyecto\\proy4-ml\\.venv\\lib\\site-packages (from jinja2->torch) (2.1.5)\n",
      "Requirement already satisfied: mpmath>=0.19 in f:\\tareas\\comp\\proyecto\\proy4-ml\\.venv\\lib\\site-packages (from sympy->torch) (1.3.0)\n",
      "Note: you may need to restart the kernel to use updated packages.\n"
     ]
    }
   ],
   "source": [
    "%pip install torch torchvision torchaudio --index-url https://download.pytorch.org/whl/cu118"
   ]
  },
  {
   "cell_type": "code",
   "execution_count": 3,
   "id": "9b8cc384-772e-438a-94db-2a098973bfa7",
   "metadata": {},
   "outputs": [],
   "source": [
    "import os\n",
    "import glob\n",
    "\n",
    "import numpy as np\n",
    "import pandas as pd\n",
    "import seaborn as sns\n",
    "import matplotlib.pyplot as plt\n",
    "\n",
    "import nltk\n",
    "import torch\n",
    "\n",
    "from matplotlib import rcParams\n",
    "from sklearn.decomposition import PCA\n",
    "from sklearn.preprocessing import StandardScaler\n",
    "\n",
    "np.random.seed(2024)"
   ]
  },
  {
   "cell_type": "code",
   "execution_count": 4,
   "id": "02ac4b2f-0057-403e-a4df-3ea0152c0438",
   "metadata": {},
   "outputs": [
    {
     "data": {
      "text/html": [
       "<div>\n",
       "<style scoped>\n",
       "    .dataframe tbody tr th:only-of-type {\n",
       "        vertical-align: middle;\n",
       "    }\n",
       "\n",
       "    .dataframe tbody tr th {\n",
       "        vertical-align: top;\n",
       "    }\n",
       "\n",
       "    .dataframe thead th {\n",
       "        text-align: right;\n",
       "    }\n",
       "</style>\n",
       "<table border=\"1\" class=\"dataframe\">\n",
       "  <thead>\n",
       "    <tr style=\"text-align: right;\">\n",
       "      <th></th>\n",
       "      <th>message</th>\n",
       "      <th>label</th>\n",
       "    </tr>\n",
       "  </thead>\n",
       "  <tbody>\n",
       "    <tr>\n",
       "      <th>count</th>\n",
       "      <td>25000</td>\n",
       "      <td>25000</td>\n",
       "    </tr>\n",
       "    <tr>\n",
       "      <th>unique</th>\n",
       "      <td>24904</td>\n",
       "      <td>2</td>\n",
       "    </tr>\n",
       "    <tr>\n",
       "      <th>top</th>\n",
       "      <td>How has this piece of crap stayed on TV this l...</td>\n",
       "      <td>neg</td>\n",
       "    </tr>\n",
       "    <tr>\n",
       "      <th>freq</th>\n",
       "      <td>3</td>\n",
       "      <td>12500</td>\n",
       "    </tr>\n",
       "  </tbody>\n",
       "</table>\n",
       "</div>"
      ],
      "text/plain": [
       "                                                  message  label\n",
       "count                                               25000  25000\n",
       "unique                                              24904      2\n",
       "top     How has this piece of crap stayed on TV this l...    neg\n",
       "freq                                                    3  12500"
      ]
     },
     "execution_count": 4,
     "metadata": {},
     "output_type": "execute_result"
    }
   ],
   "source": [
    "df_train = pd.read_csv(\"data/train.csv\")\n",
    "df_train.describe()"
   ]
  },
  {
   "cell_type": "code",
   "execution_count": 5,
   "id": "14f0620a-9444-4ede-bae6-0a4df647945c",
   "metadata": {},
   "outputs": [
    {
     "data": {
      "image/png": "[encoded data removed]",
      "text/plain": [
       "<Figure size 1400x700 with 1 Axes>"
      ]
     },
     "metadata": {},
     "output_type": "display_data"
    }
   ],
   "source": [
    "sns.set_theme(style=\"whitegrid\")\n",
    "plt.figure(figsize=(14, 7))\n",
    "sns.countplot(df_train.iloc[:, 1], order=df_train.iloc[:, 1].value_counts().index)\n",
    "\n",
    "# Configurar los títulos y etiquetas\n",
    "plt.title('Distribución de Labels')\n",
    "plt.xlabel('Frecuencia')\n",
    "plt.ylabel('Etiquetas')\n",
    "\n",
    "# Mostrar la gráfica\n",
    "plt.show()"
   ]
  },
  {
   "cell_type": "markdown",
   "id": "fcdca608",
   "metadata": {},
   "source": [
    "# 2. Prepocesamiento\n",
    "- Tokenizar\n",
    "- Eliminar stopwords\n",
    "- Part-Of-Speech tag\n",
    "- Lematización"
   ]
  },
  {
   "cell_type": "code",
   "execution_count": 6,
   "id": "ccfed2f4",
   "metadata": {},
   "outputs": [
    {
     "name": "stderr",
     "output_type": "stream",
     "text": [
      "[nltk_data] Downloading package punkt to\n",
      "[nltk_data]     C:\\Users\\andre\\AppData\\Roaming\\nltk_data...\n",
      "[nltk_data]   Package punkt is already up-to-date!\n",
      "[nltk_data] Downloading package stopwords to\n",
      "[nltk_data]     C:\\Users\\andre\\AppData\\Roaming\\nltk_data...\n",
      "[nltk_data]   Package stopwords is already up-to-date!\n",
      "[nltk_data] Downloading package averaged_perceptron_tagger to\n",
      "[nltk_data]     C:\\Users\\andre\\AppData\\Roaming\\nltk_data...\n",
      "[nltk_data]   Package averaged_perceptron_tagger is already up-to-\n",
      "[nltk_data]       date!\n",
      "[nltk_data] Downloading package wordnet to\n",
      "[nltk_data]     C:\\Users\\andre\\AppData\\Roaming\\nltk_data...\n",
      "[nltk_data]   Package wordnet is already up-to-date!\n"
     ]
    }
   ],
   "source": [
    "from nltk.corpus import stopwords\n",
    "from nltk.tokenize import word_tokenize\n",
    "from nltk import pos_tag\n",
    "from nltk.corpus import wordnet\n",
    "from nltk.stem import WordNetLemmatizer\n",
    "\n",
    "nltk.download('punkt')\n",
    "nltk.download('stopwords')\n",
    "nltk.download('averaged_perceptron_tagger')\n",
    "nltk.download('wordnet')\n",
    "\n",
    "stop_words = set(stopwords.words('english'))\n",
    "lemmatizer = WordNetLemmatizer()\n",
    "\n",
    "# Lista de palabras de negación sintáctica\n",
    "syntactic_negations = set([\"no\", \"not\", \"none\", \"never\", \"neither\", \"nor\", \"cannot\", \"can't\"])\n",
    "\n",
    "# Lista de prefijos de negación morfológica\n",
    "morphological_prefixes = [\"un\", \"in\", \"dis\", \"im\", \"ir\", \"non\", \"anti\"]\n",
    "\n",
    "def tokenize(text):\n",
    "    return [word for word in word_tokenize(text.lower()) if word.isalpha() and word not in stop_words]\n",
    "\n",
    "def pos_tagging(tokens):\n",
    "    return pos_tag(tokens)\n",
    "\n",
    "# Función para convertir etiquetas de POS de NLTK a etiquetas de WordNet\n",
    "def get_wordnet_pos(treebank_tag):\n",
    "    if treebank_tag.startswith('J'):\n",
    "        return wordnet.ADJ\n",
    "    elif treebank_tag.startswith('V'):\n",
    "        return wordnet.VERB\n",
    "    elif treebank_tag.startswith('N'):\n",
    "        return wordnet.NOUN\n",
    "    elif treebank_tag.startswith('R'):\n",
    "        return wordnet.ADV\n",
    "    else:\n",
    "        return None\n",
    "\n",
    "def mark_negations(tokens):\n",
    "    # Marca las palabras y frases con negaciones.\n",
    "    negated_tokens = []\n",
    "    negation = False\n",
    "    for token in tokens:\n",
    "        if token in syntactic_negations:\n",
    "            negation = True\n",
    "            negated_tokens.append(token)\n",
    "        elif negation:\n",
    "            if token in stop_words:\n",
    "                negated_tokens.append(token)\n",
    "            else:\n",
    "                negated_tokens.append(token + \"_NEG\")\n",
    "                negation = False\n",
    "        else:\n",
    "            negated_tokens.append(token)\n",
    "    \n",
    "    return negated_tokens\n",
    "\n",
    "def handle_morphological_negations(tokens):\n",
    "    # Marca las palabras con prefijos de negación morfológica.\n",
    "    negated_tokens = []\n",
    "    for token in tokens:\n",
    "        for prefix in morphological_prefixes:\n",
    "            if token.startswith(prefix):\n",
    "                root = token[len(prefix):]\n",
    "                negated_tokens.append(root + \"_NEG\")\n",
    "                break\n",
    "        else:\n",
    "            negated_tokens.append(token)\n",
    "    \n",
    "    return negated_tokens\n",
    "\n",
    "def lemmatize(pos_tags):\n",
    "    return [lemmatizer.lemmatize(word, pos=get_wordnet_pos(pos) or wordnet.NOUN) for word, pos in pos_tags]\n",
    "\n",
    "def preprocess(df):\n",
    "    df['tokens'] = df['message'].apply(tokenize)\n",
    "    df['tokens'] = df['tokens'].apply(mark_negations)\n",
    "    df['tokens'] = df['tokens'].apply(handle_morphological_negations)\n",
    "    df['pos_tags'] = df['tokens'].apply(pos_tagging)\n",
    "    df['lemmas'] = df['pos_tags'].apply(lemmatize)\n",
    "    return df"
   ]
  },
  {
   "cell_type": "code",
   "execution_count": 7,
   "id": "124276f2",
   "metadata": {},
   "outputs": [
    {
     "data": {
      "text/html": [
       "<div>\n",
       "<style scoped>\n",
       "    .dataframe tbody tr th:only-of-type {\n",
       "        vertical-align: middle;\n",
       "    }\n",
       "\n",
       "    .dataframe tbody tr th {\n",
       "        vertical-align: top;\n",
       "    }\n",
       "\n",
       "    .dataframe thead th {\n",
       "        text-align: right;\n",
       "    }\n",
       "</style>\n",
       "<table border=\"1\" class=\"dataframe\">\n",
       "  <thead>\n",
       "    <tr style=\"text-align: right;\">\n",
       "      <th></th>\n",
       "      <th>message</th>\n",
       "      <th>tokens</th>\n",
       "      <th>lemmas</th>\n",
       "    </tr>\n",
       "  </thead>\n",
       "  <tbody>\n",
       "    <tr>\n",
       "      <th>0</th>\n",
       "      <td>The audience disliked the actor leading the play.</td>\n",
       "      <td>[audience, liked_NEG, actor, leading, play]</td>\n",
       "      <td>[audience, liked_NEG, actor, lead, play]</td>\n",
       "    </tr>\n",
       "    <tr>\n",
       "      <th>1</th>\n",
       "      <td>He was not supposed to come.</td>\n",
       "      <td>[supposed, come]</td>\n",
       "      <td>[suppose, come]</td>\n",
       "    </tr>\n",
       "    <tr>\n",
       "      <th>2</th>\n",
       "      <td>The price of the car is not insignificant.</td>\n",
       "      <td>[price, car, significant_NEG]</td>\n",
       "      <td>[price, car, significant_NEG]</td>\n",
       "    </tr>\n",
       "  </tbody>\n",
       "</table>\n",
       "</div>"
      ],
      "text/plain": [
       "                                             message  \\\n",
       "0  The audience disliked the actor leading the play.   \n",
       "1                       He was not supposed to come.   \n",
       "2         The price of the car is not insignificant.   \n",
       "\n",
       "                                        tokens  \\\n",
       "0  [audience, liked_NEG, actor, leading, play]   \n",
       "1                             [supposed, come]   \n",
       "2                [price, car, significant_NEG]   \n",
       "\n",
       "                                     lemmas  \n",
       "0  [audience, liked_NEG, actor, lead, play]  \n",
       "1                           [suppose, come]  \n",
       "2             [price, car, significant_NEG]  "
      ]
     },
     "execution_count": 7,
     "metadata": {},
     "output_type": "execute_result"
    }
   ],
   "source": [
    "# Ejemplo de uso\n",
    "import pandas as pd\n",
    "\n",
    "data = {'message': [\"The audience disliked the actor leading the play.\", \n",
    "                    \"He was not supposed to come.\", \n",
    "                    \"The price of the car is not insignificant.\"]}\n",
    "\n",
    "df = pd.DataFrame(data)\n",
    "processed_df = preprocess(df)\n",
    "\n",
    "processed_df[['message', 'tokens', 'lemmas']]"
   ]
  },
  {
   "cell_type": "code",
   "execution_count": 8,
   "id": "52421b0f",
   "metadata": {},
   "outputs": [],
   "source": [
    "df_train = preprocess(df_train)"
   ]
  },
  {
   "cell_type": "code",
   "execution_count": 67,
   "id": "b572c20b",
   "metadata": {},
   "outputs": [],
   "source": [
    "# use tf-idf to vectorize the text\n",
    "from sklearn.feature_extraction.text import TfidfVectorizer\n",
    "\n",
    "tfidf = TfidfVectorizer(max_features=1000)\n",
    "\n",
    "x = tfidf.fit_transform(df_train['lemmas'].apply(' '.join))"
   ]
  },
  {
   "cell_type": "code",
   "execution_count": 94,
   "id": "3b98c42d",
   "metadata": {},
   "outputs": [
    {
     "data": {
      "text/plain": [
       "array(['neg', 'pos'], dtype=object)"
      ]
     },
     "execution_count": 94,
     "metadata": {},
     "output_type": "execute_result"
    }
   ],
   "source": [
    "#enconde de y a valores numericos\n",
    "from sklearn.preprocessing import LabelEncoder\n",
    "\n",
    "label_encoder = LabelEncoder()\n",
    "y = label_encoder.fit_transform(df_train['label'])\n",
    "\n",
    "\n",
    "#verificar que significa cada valor numerico\n",
    "label_encoder.classes_"
   ]
  },
  {
   "cell_type": "code",
   "execution_count": 73,
   "id": "1499f06b",
   "metadata": {},
   "outputs": [],
   "source": [
    "from sklearn.model_selection import train_test_split\n",
    "x_train, x_test, y_train, y_test = train_test_split(x, y, test_size=0.2, random_state=2024)"
   ]
  },
  {
   "cell_type": "markdown",
   "id": "4c7adc93",
   "metadata": {},
   "source": [
    "# SVM TEST"
   ]
  },
  {
   "cell_type": "code",
   "execution_count": null,
   "id": "d61b054c",
   "metadata": {},
   "outputs": [],
   "source": [
    "# fast test with training with svm\n",
    "from sklearn.svm import SVC\n",
    "from sklearn.metrics import classification_report\n",
    "\n",
    "clf = SVC()\n",
    "clf.fit(x_train, y_train)\n",
    "\n",
    "y_pred = clf.predict(x_test)\n",
    "\n",
    "print(classification_report(y_test, y_pred))"
   ]
  },
  {
   "cell_type": "markdown",
   "id": "f7fdad46",
   "metadata": {},
   "source": [
    "## MLP TEST"
   ]
  },
  {
   "cell_type": "code",
   "execution_count": 75,
   "id": "ac3ef539",
   "metadata": {},
   "outputs": [],
   "source": [
    "#MLP\n",
    "import torch.nn as nn\n",
    "\n",
    "\n",
    "INPUT_SIZE = 1000\n",
    "OUTPUT_SIZE = 2\n",
    "\n",
    "class MLP(nn.Module):\n",
    "    def __init__(self):\n",
    "        super(MLP, self).__init__()\n",
    "        self.layer1 = nn.Sequential(\n",
    "            nn.Linear(INPUT_SIZE, 100),\n",
    "            nn.ReLU())\n",
    "        self.layer2 = nn.Sequential(\n",
    "            nn.Linear(100, 32),\n",
    "            nn.ReLU())\n",
    "        self.fc = nn.Linear(32, OUTPUT_SIZE)\n",
    "\n",
    "    def forward(self, x):\n",
    "        out = self.layer1(x)\n",
    "        out = self.layer2(out)\n",
    "        out = self.fc(out)\n",
    "        return out"
   ]
  },
  {
   "cell_type": "code",
   "execution_count": 76,
   "id": "9db8841f",
   "metadata": {},
   "outputs": [
    {
     "name": "stdout",
     "output_type": "stream",
     "text": [
      "cuda:0\n"
     ]
    }
   ],
   "source": [
    "# Prepare Colab to work with CUDA.\n",
    "device = torch.device('cuda:0' if torch.cuda.is_available() else 'cpu')\n",
    "print(device)"
   ]
  },
  {
   "cell_type": "code",
   "execution_count": 77,
   "id": "4fddb748",
   "metadata": {},
   "outputs": [],
   "source": [
    "# Modelos\n",
    "model = MLP().to(device)\n",
    "loss = torch.nn.CrossEntropyLoss() # Cross entropy\n",
    "optimizer = torch.optim.AdamW(model.parameters(), lr = 0.01, weight_decay=0.008)"
   ]
  },
  {
   "cell_type": "code",
   "execution_count": 78,
   "id": "1fd206df",
   "metadata": {},
   "outputs": [],
   "source": [
    "def train(model, loss_f, optimizer,epochs, x_train, y_train):\n",
    "  loss_lista = []\n",
    "  for epoch in range(epochs):\n",
    "\n",
    "    x_train = x_train.to(device)\n",
    "    y_train = y_train.to(device)\n",
    "\n",
    "    # Propagacion adelante\n",
    "    y_pred = model(x_train)\n",
    "    loss   = loss_f(y_pred,y_train)\n",
    "    loss_lista.append(loss.cpu())\n",
    "    if (epoch%500==0):\n",
    "      print('Epoch {}: train loss: {}'.format(epoch, loss.item()))    # Backward pass\n",
    "\n",
    "    # backpropagation\n",
    "    optimizer.zero_grad()\n",
    "    loss.backward()\n",
    "    optimizer.step()\n",
    "  return loss_lista"
   ]
  },
  {
   "cell_type": "code",
   "execution_count": 96,
   "id": "3b2ed3b9",
   "metadata": {},
   "outputs": [],
   "source": [
    "import pandas as pd\n",
    "from sklearn.metrics import confusion_matrix\n",
    "\n",
    "def matriz_confusion(y_test, y_pred, Tipo):\n",
    " matrix = confusion_matrix(y_test, y_pred)\n",
    " f2 = pd.DataFrame(matrix.astype('float') / matrix.sum(axis=1)[:, np.newaxis], index= label_encoder.classes_  , columns=label_encoder.classes_)\n",
    " sns.heatmap(f2, annot=True, cbar=None, cmap=\"Greens\")\n",
    " plt.title(\"Confusion Matrix - \"  + Tipo ), plt.tight_layout()\n",
    " plt.xlabel(\"Predicted\")\n",
    " plt.ylabel(\"Real\")\n",
    " plt.show()\n",
    " \n",
    "# Write your code here\n",
    "def test(model, x_test, y_test, tipo):\n",
    "  if tipo == \"MLP\":\n",
    "    x_test = x_test.to(device)\n",
    "    y_test = y_test.to(device)\n",
    "    y_pred = model(x_test)\n",
    "    ## Comparar los datos predecidor con los datos de entrenamiento\n",
    "    # predicted_labels = 0, if (n1 > n2) (no cancer)\n",
    "    # predicted_labels = 1, if (n1 < n2) (cancer)\n",
    "    \n",
    "    y_pred = torch.argmax(y_pred, dim=1).cpu()\n",
    "    y_test = y_test.cpu()\n",
    "  else:\n",
    "    y_pred = model.predict(x_test)\n",
    "    \n",
    "  print(classification_report(y_test, y_pred))\n",
    "  matriz_confusion(y_test, y_pred,\"MLP\")\n"
   ]
  },
  {
   "cell_type": "code",
   "execution_count": 88,
   "id": "99ed3783",
   "metadata": {},
   "outputs": [
    {
     "name": "stdout",
     "output_type": "stream",
     "text": [
      "MLP TRAIN\n",
      "Epoch 0: train loss: 6.987620872678235e-05\n",
      "Epoch 500: train loss: 5.231303657637909e-05\n",
      "Epoch 1000: train loss: 3.924331394955516e-05\n",
      "Epoch 1500: train loss: 3.0180377507349476e-05\n",
      "Epoch 2000: train loss: 2.3081291146809235e-05\n",
      "Epoch 2500: train loss: 1.7533755453769118e-05\n",
      "Epoch 3000: train loss: 1.3424472854239866e-05\n",
      "Epoch 3500: train loss: 1.0177589501836337e-05\n",
      "Epoch 4000: train loss: 7.750577424303629e-06\n",
      "Epoch 4500: train loss: 5.935542503721081e-06\n"
     ]
    }
   ],
   "source": [
    "import numpy as np\n",
    "import math\n",
    "import torch\n",
    "\n",
    "\n",
    "x_train_dv = torch.tensor(x_train.toarray(), dtype=torch.float32)\n",
    "y_train_dv = torch.tensor(y_train, dtype=torch.long)\n",
    "\n",
    "print(\"MLP TRAIN\")\n",
    "loss_list = train(model, loss, optimizer, 5000, x_train_dv, y_train_dv)\n"
   ]
  },
  {
   "cell_type": "code",
   "execution_count": 97,
   "id": "74b26804",
   "metadata": {},
   "outputs": [
    {
     "name": "stdout",
     "output_type": "stream",
     "text": [
      "              precision    recall  f1-score   support\n",
      "\n",
      "           0       0.79      0.80      0.80      2463\n",
      "           1       0.81      0.79      0.80      2537\n",
      "\n",
      "    accuracy                           0.80      5000\n",
      "   macro avg       0.80      0.80      0.80      5000\n",
      "weighted avg       0.80      0.80      0.80      5000\n",
      "\n"
     ]
    },
    {
     "data": {
      "image/png": "[encoded data removed]",
      "text/plain": [
       "<Figure size 640x480 with 1 Axes>"
      ]
     },
     "metadata": {},
     "output_type": "display_data"
    }
   ],
   "source": [
    "x_test_dv = torch.tensor(x_test.toarray(), dtype=torch.float32)\n",
    "y_test_dv = torch.tensor(y_test, dtype=torch.long)\n",
    "\n",
    "test(model, x_test_dv, y_test_dv, \"MLP\")"
   ]
  }
 ],
 "metadata": {
  "kernelspec": {
   "display_name": "Python 3 (ipykernel)",
   "language": "python",
   "name": "python3"
  },
  "language_info": {
   "codemirror_mode": {
    "name": "ipython",
    "version": 3
   },
   "file_extension": ".py",
   "mimetype": "text/x-python",
   "name": "python",
   "nbconvert_exporter": "python",
   "pygments_lexer": "ipython3",
   "version": "3.11.3"
  }
 },
 "nbformat": 4,
 "nbformat_minor": 5
}
